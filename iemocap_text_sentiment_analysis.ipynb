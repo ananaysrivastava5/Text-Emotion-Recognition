{
  "nbformat": 4,
  "nbformat_minor": 0,
  "metadata": {
    "accelerator": "GPU",
    "colab": {
      "name": "iemocap_text_sentiment_analysis.ipynb",
      "provenance": [],
      "collapsed_sections": [],
      "toc_visible": true
    },
    "kernelspec": {
      "display_name": "Python 3",
      "language": "python",
      "name": "python3"
    },
    "language_info": {
      "codemirror_mode": {
        "name": "ipython",
        "version": 3
      },
      "file_extension": ".py",
      "mimetype": "text/x-python",
      "name": "python",
      "nbconvert_exporter": "python",
      "pygments_lexer": "ipython3",
      "version": "3.7.9"
    }
  },
  "cells": [
    {
      "cell_type": "markdown",
      "metadata": {
        "id": "YCn_1yxgMnfF",
        "outputId": "fe44de8f-81ac-436d-90fe-2e3be276c8bc"
      },
      "source": [
        "# Libraries Used"
      ]
    },
    {
      "cell_type": "code",
      "metadata": {
        "id": "Y-Gfg1KG8L5o",
        "outputId": "b9f30313-be8a-44f1-aa3e-442c2ed403da"
      },
      "source": [
        "import os\n",
        "import pathlib\n",
        "from tqdm import tqdm\n",
        "import pandas as pd\n",
        "import numpy as np\n",
        "import matplotlib.pyplot as plt\n",
        "from nltk.tokenize import word_tokenize\n",
        "from nltk.corpus import stopwords\n",
        "from nltk.stem import WordNetLemmatizer\n",
        "import nltk\n",
        "nltk.download('wordnet')\n",
        "from nltk.corpus import wordnet\n",
        "import random\n",
        "import re\n",
        "nltk.download('punkt')\n",
        "nltk.download('stopwords')\n",
        "stop_words = stopwords.words('english')\n",
        "lemmatizer = WordNetLemmatizer()\n",
        "from sklearn import preprocessing, decomposition, model_selection, metrics, pipeline\n",
        "from sklearn.feature_extraction.text import TfidfVectorizer, CountVectorizer\n",
        "from sklearn.decomposition import TruncatedSVD\n",
        "from sklearn.linear_model import LogisticRegression\n",
        "from sklearn.model_selection import train_test_split\n",
        "from sklearn.svm import SVC\n",
        "from sklearn.metrics import confusion_matrix, classification_report\n",
        "from sklearn.model_selection import cross_val_score, GridSearchCV\n",
        "from sklearn.naive_bayes import GaussianNB, MultinomialNB\n",
        "from keras.layers import GlobalMaxPooling1D, Conv1D, MaxPooling1D, Flatten, Bidirectional, SpatialDropout1D\n",
        "from keras.layers import LSTM, Input, Flatten, Embedding, Dropout\n",
        "from keras.preprocessing import sequence, text\n",
        "from keras.callbacks import EarlyStopping\n",
        "from keras.models import Sequential\n",
        "from keras.layers.recurrent import LSTM, GRU\n",
        "from keras.layers.core import Dense, Activation\n",
        "from keras.layers.embeddings import Embedding\n",
        "from keras.layers.normalization import BatchNormalization\n",
        "from keras.utils import np_utils"
      ],
      "execution_count": null,
      "outputs": [
        {
          "output_type": "stream",
          "text": [
            "[nltk_data] Downloading package wordnet to C:\\Users\\Ananay\n",
            "[nltk_data]     Srivastava\\AppData\\Roaming\\nltk_data...\n",
            "[nltk_data]   Package wordnet is already up-to-date!\n",
            "[nltk_data] Downloading package punkt to C:\\Users\\Ananay\n",
            "[nltk_data]     Srivastava\\AppData\\Roaming\\nltk_data...\n",
            "[nltk_data]   Package punkt is already up-to-date!\n",
            "[nltk_data] Downloading package stopwords to C:\\Users\\Ananay\n",
            "[nltk_data]     Srivastava\\AppData\\Roaming\\nltk_data...\n",
            "[nltk_data]   Package stopwords is already up-to-date!\n"
          ],
          "name": "stderr"
        }
      ]
    },
    {
      "cell_type": "markdown",
      "metadata": {
        "id": "asqf2csB8L5s"
      },
      "source": [
        "# Importing Data"
      ]
    },
    {
      "cell_type": "code",
      "metadata": {
        "id": "bttd9GPcM4qf"
      },
      "source": [
        "df = pd.read_csv('dailydialog.csv')"
      ],
      "execution_count": null,
      "outputs": []
    },
    {
      "cell_type": "code",
      "metadata": {
        "id": "SisUT1bHBwUl"
      },
      "source": [
        "#test = pd.read_excel(r'test_file.xlsx')\n",
        "#dev = pd.read_excel(r'dev_file.xlsx')"
      ],
      "execution_count": null,
      "outputs": []
    },
    {
      "cell_type": "code",
      "metadata": {
        "colab": {
          "base_uri": "https://localhost:8080/",
          "height": 479
        },
        "id": "P1K6RDMLM-0l",
        "outputId": "53a07323-b1e0-4623-9483-931a751349eb"
      },
      "source": [
        "df.head()"
      ],
      "execution_count": null,
      "outputs": [
        {
          "output_type": "execute_result",
          "data": {
            "text/html": [
              "<div>\n",
              "<style scoped>\n",
              "    .dataframe tbody tr th:only-of-type {\n",
              "        vertical-align: middle;\n",
              "    }\n",
              "\n",
              "    .dataframe tbody tr th {\n",
              "        vertical-align: top;\n",
              "    }\n",
              "\n",
              "    .dataframe thead th {\n",
              "        text-align: right;\n",
              "    }\n",
              "</style>\n",
              "<table border=\"1\" class=\"dataframe\">\n",
              "  <thead>\n",
              "    <tr style=\"text-align: right;\">\n",
              "      <th></th>\n",
              "      <th>Emotion</th>\n",
              "      <th>Text</th>\n",
              "    </tr>\n",
              "  </thead>\n",
              "  <tbody>\n",
              "    <tr>\n",
              "      <th>0</th>\n",
              "      <td>0</td>\n",
              "      <td>Say , Jim , how about going for a few beers af...</td>\n",
              "    </tr>\n",
              "    <tr>\n",
              "      <th>1</th>\n",
              "      <td>0</td>\n",
              "      <td>You know that is tempting but is really not g...</td>\n",
              "    </tr>\n",
              "    <tr>\n",
              "      <th>2</th>\n",
              "      <td>0</td>\n",
              "      <td>What do you mean ? It will help us to relax .</td>\n",
              "    </tr>\n",
              "    <tr>\n",
              "      <th>3</th>\n",
              "      <td>0</td>\n",
              "      <td>Do you really think so ? I don't . It will ju...</td>\n",
              "    </tr>\n",
              "    <tr>\n",
              "      <th>4</th>\n",
              "      <td>0</td>\n",
              "      <td>I guess you are right.But what shall we do ? ...</td>\n",
              "    </tr>\n",
              "  </tbody>\n",
              "</table>\n",
              "</div>"
            ],
            "text/plain": [
              "   Emotion                                               Text\n",
              "0        0  Say , Jim , how about going for a few beers af...\n",
              "1        0   You know that is tempting but is really not g...\n",
              "2        0     What do you mean ? It will help us to relax . \n",
              "3        0   Do you really think so ? I don't . It will ju...\n",
              "4        0   I guess you are right.But what shall we do ? ..."
            ]
          },
          "metadata": {
            "tags": []
          },
          "execution_count": 80
        }
      ]
    },
    {
      "cell_type": "code",
      "metadata": {
        "colab": {
          "base_uri": "https://localhost:8080/",
          "height": 265
        },
        "id": "458FCXZKNCJ_",
        "outputId": "874c13e1-eb78-45c5-f614-729fd4854776"
      },
      "source": [
        "df.Emotion.hist()\n",
        "plt.show()"
      ],
      "execution_count": null,
      "outputs": [
        {
          "output_type": "display_data",
          "data": {
            "image/png": "[encoded data removed]",
            "text/plain": [
              "<Figure size 432x288 with 1 Axes>"
            ]
          },
          "metadata": {
            "tags": [],
            "needs_background": "light"
          }
        }
      ]
    },
    {
      "cell_type": "code",
      "metadata": {
        "colab": {
          "base_uri": "https://localhost:8080/"
        },
        "id": "ibfBY9nNNEvn",
        "outputId": "0491f2bd-a74d-4370-c473-013da26c1379"
      },
      "source": [
        "df.Emotion.value_counts()"
      ],
      "execution_count": null,
      "outputs": [
        {
          "output_type": "execute_result",
          "data": {
            "text/plain": [
              "0    85572\n",
              "4    12885\n",
              "6     1823\n",
              "5     1150\n",
              "1     1022\n",
              "2      353\n",
              "3      174\n",
              "Name: Emotion, dtype: int64"
            ]
          },
          "metadata": {
            "tags": []
          },
          "execution_count": 7
        }
      ]
    },
    {
      "cell_type": "code",
      "metadata": {
        "id": "sMGVh-J-uyzm"
      },
      "source": [
        "df_0 = df[df.Emotion==0]\n",
        "df_1 = df[df.Emotion==1]\n",
        "df_2 = df[df.Emotion==2]\n",
        "df_3 = df[df.Emotion==3]\n",
        "df_4 = df[df.Emotion==4]\n",
        "df_5 = df[df.Emotion==5]\n",
        "df_6 = df[df.Emotion==6]"
      ],
      "execution_count": null,
      "outputs": []
    },
    {
      "cell_type": "code",
      "metadata": {
        "id": "ToNVfYL8uyzn"
      },
      "source": [
        "df_0_sampled = df_0.sample(5000)\n",
        "df_4_sampled = df_4.sample(5000)"
      ],
      "execution_count": null,
      "outputs": []
    },
    {
      "cell_type": "code",
      "metadata": {
        "id": "TohDsxTcuyzo"
      },
      "source": [
        "# Sampled data\n",
        "df_new = pd.concat([df_0_sampled, df_1, df_2, df_3, df_4_sampled, df_5, df_6], axis=0)"
      ],
      "execution_count": null,
      "outputs": []
    },
    {
      "cell_type": "code",
      "metadata": {
        "id": "ECA-97sbuyzo",
        "outputId": "ea73107a-9571-483e-820b-4b46482082c0"
      },
      "source": [
        "df_new.shape"
      ],
      "execution_count": null,
      "outputs": [
        {
          "output_type": "execute_result",
          "data": {
            "text/plain": [
              "(14522, 2)"
            ]
          },
          "metadata": {
            "tags": []
          },
          "execution_count": 85
        }
      ]
    },
    {
      "cell_type": "code",
      "metadata": {
        "id": "ss5AYHRouyzp",
        "outputId": "4db09b9a-911a-4b0e-ff98-a8977644498f"
      },
      "source": [
        "df_new.Emotion.hist()\n",
        "plt.show()"
      ],
      "execution_count": null,
      "outputs": [
        {
          "output_type": "display_data",
          "data": {
            "image/png": "[encoded data removed]",
            "text/plain": [
              "<Figure size 432x288 with 1 Axes>"
            ]
          },
          "metadata": {
            "tags": [],
            "needs_background": "light"
          }
        }
      ]
    },
    {
      "cell_type": "code",
      "metadata": {
        "id": "ZYOzlj7Auyzq"
      },
      "source": [
        "df_new = df_new.sample(frac=1).reset_index(drop=True)"
      ],
      "execution_count": null,
      "outputs": []
    },
    {
      "cell_type": "code",
      "metadata": {
        "id": "Qgm-bdfquyzq",
        "outputId": "ffd2c181-2f19-4320-8d77-7df89648e8e6"
      },
      "source": [
        "df_new.head()"
      ],
      "execution_count": null,
      "outputs": [
        {
          "output_type": "execute_result",
          "data": {
            "text/html": [
              "<div>\n",
              "<style scoped>\n",
              "    .dataframe tbody tr th:only-of-type {\n",
              "        vertical-align: middle;\n",
              "    }\n",
              "\n",
              "    .dataframe tbody tr th {\n",
              "        vertical-align: top;\n",
              "    }\n",
              "\n",
              "    .dataframe thead th {\n",
              "        text-align: right;\n",
              "    }\n",
              "</style>\n",
              "<table border=\"1\" class=\"dataframe\">\n",
              "  <thead>\n",
              "    <tr style=\"text-align: right;\">\n",
              "      <th></th>\n",
              "      <th>Emotion</th>\n",
              "      <th>Text</th>\n",
              "    </tr>\n",
              "  </thead>\n",
              "  <tbody>\n",
              "    <tr>\n",
              "      <th>0</th>\n",
              "      <td>5</td>\n",
              "      <td>Oh , no . It seems that I've lost my train tic...</td>\n",
              "    </tr>\n",
              "    <tr>\n",
              "      <th>1</th>\n",
              "      <td>6</td>\n",
              "      <td>Oh , I see him now . Wait ! That's ...</td>\n",
              "    </tr>\n",
              "    <tr>\n",
              "      <th>2</th>\n",
              "      <td>6</td>\n",
              "      <td>Wait ! Look at that board , what's on it ?</td>\n",
              "    </tr>\n",
              "    <tr>\n",
              "      <th>3</th>\n",
              "      <td>0</td>\n",
              "      <td>I believe it . Hoo , this car corners like it...</td>\n",
              "    </tr>\n",
              "    <tr>\n",
              "      <th>4</th>\n",
              "      <td>0</td>\n",
              "      <td>That ’ s fine . Thanks for coming to see us ....</td>\n",
              "    </tr>\n",
              "  </tbody>\n",
              "</table>\n",
              "</div>"
            ],
            "text/plain": [
              "   Emotion                                               Text\n",
              "0        5  Oh , no . It seems that I've lost my train tic...\n",
              "1        6            Oh , I see him now . Wait ! That's ... \n",
              "2        6        Wait ! Look at that board , what's on it ? \n",
              "3        0   I believe it . Hoo , this car corners like it...\n",
              "4        0   That ’ s fine . Thanks for coming to see us ...."
            ]
          },
          "metadata": {
            "tags": []
          },
          "execution_count": 14
        }
      ]
    },
    {
      "cell_type": "code",
      "metadata": {
        "id": "4MWcFxkWuyzr"
      },
      "source": [
        "data = df_new.iloc[:13500,:]"
      ],
      "execution_count": null,
      "outputs": []
    },
    {
      "cell_type": "code",
      "metadata": {
        "id": "4J7IYdb6uyzr",
        "outputId": "30019b8c-618d-473e-98dc-707e819e0029"
      },
      "source": [
        "data.shape"
      ],
      "execution_count": null,
      "outputs": [
        {
          "output_type": "execute_result",
          "data": {
            "text/plain": [
              "(13500, 2)"
            ]
          },
          "metadata": {
            "tags": []
          },
          "execution_count": 16
        }
      ]
    },
    {
      "cell_type": "code",
      "metadata": {
        "id": "ZZtC34-ouyzs",
        "outputId": "0d99b06e-ae0a-4878-81f1-31d3f8d7d210"
      },
      "source": [
        "type(data)"
      ],
      "execution_count": null,
      "outputs": [
        {
          "output_type": "execute_result",
          "data": {
            "text/plain": [
              "pandas.core.frame.DataFrame"
            ]
          },
          "metadata": {
            "tags": []
          },
          "execution_count": 88
        }
      ]
    },
    {
      "cell_type": "code",
      "metadata": {
        "id": "-UJbm_Dduyzt"
      },
      "source": [
        "test = df_new.iloc[13500:,:]"
      ],
      "execution_count": null,
      "outputs": []
    },
    {
      "cell_type": "code",
      "metadata": {
        "id": "2AWNlKBwuyzt",
        "outputId": "6d1621dc-633f-409d-e293-d72aeee7c13f"
      },
      "source": [
        "test.shape"
      ],
      "execution_count": null,
      "outputs": [
        {
          "output_type": "execute_result",
          "data": {
            "text/plain": [
              "(1022, 2)"
            ]
          },
          "metadata": {
            "tags": []
          },
          "execution_count": 90
        }
      ]
    },
    {
      "cell_type": "code",
      "metadata": {
        "id": "PAWQrHxpuyzu",
        "outputId": "bad8e5cc-b154-434f-c34e-cf33477728b3"
      },
      "source": [
        "type(test)"
      ],
      "execution_count": null,
      "outputs": [
        {
          "output_type": "execute_result",
          "data": {
            "text/plain": [
              "pandas.core.frame.DataFrame"
            ]
          },
          "metadata": {
            "tags": []
          },
          "execution_count": 91
        }
      ]
    },
    {
      "cell_type": "code",
      "metadata": {
        "id": "5BDOdSEmuyzu"
      },
      "source": [
        ""
      ],
      "execution_count": null,
      "outputs": []
    },
    {
      "cell_type": "code",
      "metadata": {
        "id": "pgUpO2GBuyzu"
      },
      "source": [
        ""
      ],
      "execution_count": null,
      "outputs": []
    },
    {
      "cell_type": "markdown",
      "metadata": {
        "id": "3JJMjK568L5z"
      },
      "source": [
        "# Data Preprocessing"
      ]
    },
    {
      "cell_type": "code",
      "metadata": {
        "colab": {
          "base_uri": "https://localhost:8080/",
          "height": 204
        },
        "id": "b6c12e33NL-Q",
        "outputId": "d1eb221a-8650-44b6-89f4-b48ed154ae09"
      },
      "source": [
        "data.head()"
      ],
      "execution_count": null,
      "outputs": [
        {
          "output_type": "execute_result",
          "data": {
            "text/html": [
              "<div>\n",
              "<style scoped>\n",
              "    .dataframe tbody tr th:only-of-type {\n",
              "        vertical-align: middle;\n",
              "    }\n",
              "\n",
              "    .dataframe tbody tr th {\n",
              "        vertical-align: top;\n",
              "    }\n",
              "\n",
              "    .dataframe thead th {\n",
              "        text-align: right;\n",
              "    }\n",
              "</style>\n",
              "<table border=\"1\" class=\"dataframe\">\n",
              "  <thead>\n",
              "    <tr style=\"text-align: right;\">\n",
              "      <th></th>\n",
              "      <th>Emotion</th>\n",
              "      <th>Text</th>\n",
              "    </tr>\n",
              "  </thead>\n",
              "  <tbody>\n",
              "    <tr>\n",
              "      <th>0</th>\n",
              "      <td>5</td>\n",
              "      <td>Oh , no . It seems that I've lost my train tic...</td>\n",
              "    </tr>\n",
              "    <tr>\n",
              "      <th>1</th>\n",
              "      <td>6</td>\n",
              "      <td>Oh , I see him now . Wait ! That's ...</td>\n",
              "    </tr>\n",
              "    <tr>\n",
              "      <th>2</th>\n",
              "      <td>6</td>\n",
              "      <td>Wait ! Look at that board , what's on it ?</td>\n",
              "    </tr>\n",
              "    <tr>\n",
              "      <th>3</th>\n",
              "      <td>0</td>\n",
              "      <td>I believe it . Hoo , this car corners like it...</td>\n",
              "    </tr>\n",
              "    <tr>\n",
              "      <th>4</th>\n",
              "      <td>0</td>\n",
              "      <td>That ’ s fine . Thanks for coming to see us ....</td>\n",
              "    </tr>\n",
              "  </tbody>\n",
              "</table>\n",
              "</div>"
            ],
            "text/plain": [
              "   Emotion                                               Text\n",
              "0        5  Oh , no . It seems that I've lost my train tic...\n",
              "1        6            Oh , I see him now . Wait ! That's ... \n",
              "2        6        Wait ! Look at that board , what's on it ? \n",
              "3        0   I believe it . Hoo , this car corners like it...\n",
              "4        0   That ’ s fine . Thanks for coming to see us ...."
            ]
          },
          "metadata": {
            "tags": []
          },
          "execution_count": 21
        }
      ]
    },
    {
      "cell_type": "code",
      "metadata": {
        "colab": {
          "base_uri": "https://localhost:8080/"
        },
        "id": "j6uWvoKrdKdE",
        "outputId": "abf38161-c040-4b29-ea4c-1376e49f9227"
      },
      "source": [
        "data.shape"
      ],
      "execution_count": null,
      "outputs": [
        {
          "output_type": "execute_result",
          "data": {
            "text/plain": [
              "(13500, 2)"
            ]
          },
          "metadata": {
            "tags": []
          },
          "execution_count": 22
        }
      ]
    },
    {
      "cell_type": "code",
      "metadata": {
        "id": "W32mLt0_NNEo"
      },
      "source": [
        "appos = {\n",
        "\"aren't\" : \"are not\",\n",
        "\"can't\" : \"cannot\",\n",
        "\"couldn't\" : \"could not\",\n",
        "\"didn't\" : \"did not\",\n",
        "\"doesn't\" : \"does not\",\n",
        "\"don't\" : \"do not\",\n",
        "\"hadn't\" : \"had not\",\n",
        "\"hasn't\" : \"has not\",\n",
        "\"haven't\" : \"have not\",\n",
        "\"he'd\" : \"he would\",\n",
        "\"he'll\" : \"he will\",\n",
        "\"he's\" : \"he is\",\n",
        "\"i'd\" : \"I would\",\n",
        "\"i'd\" : \"I had\",\n",
        "\"i'll\" : \"I will\",\n",
        "\"i'm\" : \"I am\",\n",
        "\"isn't\" : \"is not\",\n",
        "\"it's\" : \"it is\",\n",
        "\"it'll\":\"it will\",\n",
        "\"i've\" : \"I have\",\n",
        "\"let's\" : \"let us\",\n",
        "\"mightn't\" : \"might not\",\n",
        "\"mustn't\" : \"must not\",\n",
        "\"shan't\" : \"shall not\",\n",
        "\"she'd\" : \"she would\",\n",
        "\"she'll\" : \"she will\",\n",
        "\"she's\" : \"she is\",\n",
        "\"shouldn't\" : \"should not\",\n",
        "\"that's\" : \"that is\",\n",
        "\"there's\" : \"there is\",\n",
        "\"they'd\" : \"they would\",\n",
        "\"they'll\" : \"they will\",\n",
        "\"they're\" : \"they are\",\n",
        "\"they've\" : \"they have\",\n",
        "\"we'd\" : \"we would\",\n",
        "\"we're\" : \"we are\",\n",
        "\"weren't\" : \"were not\",\n",
        "\"we've\" : \"we have\",\n",
        "\"what'll\" : \"what will\",\n",
        "\"what're\" : \"what are\",\n",
        "\"what's\" : \"what is\",\n",
        "\"what've\" : \"what have\",\n",
        "\"where's\" : \"where is\",\n",
        "\"who'd\" : \"who would\",\n",
        "\"who'll\" : \"who will\",\n",
        "\"who're\" : \"who are\",\n",
        "\"who's\" : \"who is\",\n",
        "\"who've\" : \"who have\",\n",
        "\"won't\" : \"will not\",\n",
        "\"wouldn't\" : \"would not\",\n",
        "\"you'd\" : \"you would\",\n",
        "\"you'll\" : \"you will\",\n",
        "\"you're\" : \"you are\",\n",
        "\"you've\" : \"you have\",\n",
        "\"'re\": \" are\",\n",
        "\"wasn't\": \"was not\",\n",
        "\"we'll\":\" will\",\n",
        "\"didn't\": \"did not\",\n",
        "\"must've\": \"must have\",\n",
        "\"should've\": \"should have\"\n",
        "}"
      ],
      "execution_count": null,
      "outputs": []
    },
    {
      "cell_type": "code",
      "metadata": {
        "id": "aat2u7UZNWkY",
        "outputId": "933cb055-e15e-4bf8-b65f-a3efb4dd1be9"
      },
      "source": [
        "def clean_text(words):\n",
        "    words = re.sub(r'http\\S+', '', str(words))\n",
        "    words = words.lower()\n",
        "    words = word_tokenize(words)\n",
        "    words = [word for word in words if word.isalpha()]\n",
        "    reformed = [appos[word] if word in appos else word for word in words]\n",
        "    reformed = [lemmatizer.lemmatize(word) for word in reformed if word not in set(stop_words)]\n",
        "    reformed = [word for word in reformed if len(word) > 2]\n",
        "    reformed = ' '.join(reformed)\n",
        "    return reformed\n",
        "\n",
        "data['CleanText'] = data['Text'].apply(clean_text)"
      ],
      "execution_count": null,
      "outputs": [
        {
          "output_type": "stream",
          "text": [
            "C:\\Users\\Ananay Srivastava\\Anaconda3\\envs\\tensorflow\\lib\\site-packages\\ipykernel_launcher.py:12: SettingWithCopyWarning: \n",
            "A value is trying to be set on a copy of a slice from a DataFrame.\n",
            "Try using .loc[row_indexer,col_indexer] = value instead\n",
            "\n",
            "See the caveats in the documentation: https://pandas.pydata.org/pandas-docs/stable/user_guide/indexing.html#returning-a-view-versus-a-copy\n",
            "  if sys.path[0] == '':\n"
          ],
          "name": "stderr"
        }
      ]
    },
    {
      "cell_type": "code",
      "metadata": {
        "colab": {
          "base_uri": "https://localhost:8080/",
          "height": 204
        },
        "id": "t2GFWV8WPw6f",
        "outputId": "25e9ea7b-db25-4541-8f1b-cceafbb8e781"
      },
      "source": [
        "data.head()"
      ],
      "execution_count": null,
      "outputs": [
        {
          "output_type": "execute_result",
          "data": {
            "text/html": [
              "<div>\n",
              "<style scoped>\n",
              "    .dataframe tbody tr th:only-of-type {\n",
              "        vertical-align: middle;\n",
              "    }\n",
              "\n",
              "    .dataframe tbody tr th {\n",
              "        vertical-align: top;\n",
              "    }\n",
              "\n",
              "    .dataframe thead th {\n",
              "        text-align: right;\n",
              "    }\n",
              "</style>\n",
              "<table border=\"1\" class=\"dataframe\">\n",
              "  <thead>\n",
              "    <tr style=\"text-align: right;\">\n",
              "      <th></th>\n",
              "      <th>Emotion</th>\n",
              "      <th>Text</th>\n",
              "      <th>CleanText</th>\n",
              "    </tr>\n",
              "  </thead>\n",
              "  <tbody>\n",
              "    <tr>\n",
              "      <th>0</th>\n",
              "      <td>5</td>\n",
              "      <td>Oh , no . It seems that I've lost my train tic...</td>\n",
              "      <td>seems lost train ticket</td>\n",
              "    </tr>\n",
              "    <tr>\n",
              "      <th>1</th>\n",
              "      <td>6</td>\n",
              "      <td>Oh , I see him now . Wait ! That's ...</td>\n",
              "      <td>see wait</td>\n",
              "    </tr>\n",
              "    <tr>\n",
              "      <th>2</th>\n",
              "      <td>6</td>\n",
              "      <td>Wait ! Look at that board , what's on it ?</td>\n",
              "      <td>wait look board</td>\n",
              "    </tr>\n",
              "    <tr>\n",
              "      <th>3</th>\n",
              "      <td>0</td>\n",
              "      <td>I believe it . Hoo , this car corners like it...</td>\n",
              "      <td>believe hoo car corner like rail</td>\n",
              "    </tr>\n",
              "    <tr>\n",
              "      <th>4</th>\n",
              "      <td>0</td>\n",
              "      <td>That ’ s fine . Thanks for coming to see us ....</td>\n",
              "      <td>fine thanks coming see hope able let know job ...</td>\n",
              "    </tr>\n",
              "  </tbody>\n",
              "</table>\n",
              "</div>"
            ],
            "text/plain": [
              "   Emotion                                               Text  \\\n",
              "0        5  Oh , no . It seems that I've lost my train tic...   \n",
              "1        6            Oh , I see him now . Wait ! That's ...    \n",
              "2        6        Wait ! Look at that board , what's on it ?    \n",
              "3        0   I believe it . Hoo , this car corners like it...   \n",
              "4        0   That ’ s fine . Thanks for coming to see us ....   \n",
              "\n",
              "                                           CleanText  \n",
              "0                            seems lost train ticket  \n",
              "1                                           see wait  \n",
              "2                                    wait look board  \n",
              "3                   believe hoo car corner like rail  \n",
              "4  fine thanks coming see hope able let know job ...  "
            ]
          },
          "metadata": {
            "tags": []
          },
          "execution_count": 25
        }
      ]
    },
    {
      "cell_type": "code",
      "metadata": {
        "colab": {
          "base_uri": "https://localhost:8080/",
          "height": 445
        },
        "id": "D_B5AMnEEqew",
        "outputId": "51d844cb-1de8-4c04-80f8-7551719555f9"
      },
      "source": [
        "test.head()"
      ],
      "execution_count": null,
      "outputs": [
        {
          "output_type": "execute_result",
          "data": {
            "text/html": [
              "<div>\n",
              "<style scoped>\n",
              "    .dataframe tbody tr th:only-of-type {\n",
              "        vertical-align: middle;\n",
              "    }\n",
              "\n",
              "    .dataframe tbody tr th {\n",
              "        vertical-align: top;\n",
              "    }\n",
              "\n",
              "    .dataframe thead th {\n",
              "        text-align: right;\n",
              "    }\n",
              "</style>\n",
              "<table border=\"1\" class=\"dataframe\">\n",
              "  <thead>\n",
              "    <tr style=\"text-align: right;\">\n",
              "      <th></th>\n",
              "      <th>Emotion</th>\n",
              "      <th>Text</th>\n",
              "    </tr>\n",
              "  </thead>\n",
              "  <tbody>\n",
              "    <tr>\n",
              "      <th>13500</th>\n",
              "      <td>6</td>\n",
              "      <td>I didn't do anything .</td>\n",
              "    </tr>\n",
              "    <tr>\n",
              "      <th>13501</th>\n",
              "      <td>6</td>\n",
              "      <td>You're kidding !</td>\n",
              "    </tr>\n",
              "    <tr>\n",
              "      <th>13502</th>\n",
              "      <td>1</td>\n",
              "      <td>He does everything so mindlessly that he is g...</td>\n",
              "    </tr>\n",
              "    <tr>\n",
              "      <th>13503</th>\n",
              "      <td>0</td>\n",
              "      <td>We've managed to reduce our energy consumption...</td>\n",
              "    </tr>\n",
              "    <tr>\n",
              "      <th>13504</th>\n",
              "      <td>0</td>\n",
              "      <td>Did you hear ? The state is thinking of legali...</td>\n",
              "    </tr>\n",
              "  </tbody>\n",
              "</table>\n",
              "</div>"
            ],
            "text/plain": [
              "       Emotion                                               Text\n",
              "13500        6                            I didn't do anything . \n",
              "13501        6                                  You're kidding ! \n",
              "13502        1   He does everything so mindlessly that he is g...\n",
              "13503        0  We've managed to reduce our energy consumption...\n",
              "13504        0  Did you hear ? The state is thinking of legali..."
            ]
          },
          "metadata": {
            "tags": []
          },
          "execution_count": 26
        }
      ]
    },
    {
      "cell_type": "code",
      "metadata": {
        "id": "6qpMAKFhEqrN",
        "outputId": "f75f7c9b-7dc9-4c14-86b9-c9a84e93ea6c"
      },
      "source": [
        "def clean_text(words):\n",
        "    words = re.sub(r'http\\S+', '', str(words))\n",
        "    words = words.lower()\n",
        "    words = word_tokenize(words)\n",
        "    words = [word for word in words if word.isalpha()]\n",
        "    reformed = [appos[word] if word in appos else word for word in words]\n",
        "    reformed = [lemmatizer.lemmatize(word) for word in reformed if word not in set(stop_words)]\n",
        "    reformed = [word for word in reformed if len(word) > 2]\n",
        "    reformed = ' '.join(reformed)\n",
        "    return reformed\n",
        "\n",
        "test['CleanText'] = test['Text'].apply(clean_text)"
      ],
      "execution_count": null,
      "outputs": [
        {
          "output_type": "stream",
          "text": [
            "C:\\Users\\Ananay Srivastava\\Anaconda3\\envs\\tensorflow\\lib\\site-packages\\ipykernel_launcher.py:12: SettingWithCopyWarning: \n",
            "A value is trying to be set on a copy of a slice from a DataFrame.\n",
            "Try using .loc[row_indexer,col_indexer] = value instead\n",
            "\n",
            "See the caveats in the documentation: https://pandas.pydata.org/pandas-docs/stable/user_guide/indexing.html#returning-a-view-versus-a-copy\n",
            "  if sys.path[0] == '':\n"
          ],
          "name": "stderr"
        }
      ]
    },
    {
      "cell_type": "code",
      "metadata": {
        "colab": {
          "base_uri": "https://localhost:8080/",
          "height": 204
        },
        "id": "eiXmZiTNFY1a",
        "outputId": "e798ab2a-6d0e-465c-fc9f-accb828b52b9"
      },
      "source": [
        "test.head()"
      ],
      "execution_count": null,
      "outputs": [
        {
          "output_type": "execute_result",
          "data": {
            "text/html": [
              "<div>\n",
              "<style scoped>\n",
              "    .dataframe tbody tr th:only-of-type {\n",
              "        vertical-align: middle;\n",
              "    }\n",
              "\n",
              "    .dataframe tbody tr th {\n",
              "        vertical-align: top;\n",
              "    }\n",
              "\n",
              "    .dataframe thead th {\n",
              "        text-align: right;\n",
              "    }\n",
              "</style>\n",
              "<table border=\"1\" class=\"dataframe\">\n",
              "  <thead>\n",
              "    <tr style=\"text-align: right;\">\n",
              "      <th></th>\n",
              "      <th>Emotion</th>\n",
              "      <th>Text</th>\n",
              "      <th>CleanText</th>\n",
              "    </tr>\n",
              "  </thead>\n",
              "  <tbody>\n",
              "    <tr>\n",
              "      <th>13500</th>\n",
              "      <td>4</td>\n",
              "      <td>I don't think so . Let's walk by the stream ....</td>\n",
              "      <td>think let walk stream sure find waterfall map</td>\n",
              "    </tr>\n",
              "    <tr>\n",
              "      <th>13501</th>\n",
              "      <td>6</td>\n",
              "      <td>150 ? No , I'm not really interested in this ...</td>\n",
              "      <td>really interested place big enough near enough...</td>\n",
              "    </tr>\n",
              "    <tr>\n",
              "      <th>13502</th>\n",
              "      <td>5</td>\n",
              "      <td>I doubt if I can pass it .</td>\n",
              "      <td>doubt pas</td>\n",
              "    </tr>\n",
              "    <tr>\n",
              "      <th>13503</th>\n",
              "      <td>5</td>\n",
              "      <td>I am sorry . It's a one-price shop .</td>\n",
              "      <td>sorry shop</td>\n",
              "    </tr>\n",
              "    <tr>\n",
              "      <th>13504</th>\n",
              "      <td>6</td>\n",
              "      <td>Hey ! The movie hasn't even started and they'...</td>\n",
              "      <td>hey movie even started almost gone</td>\n",
              "    </tr>\n",
              "  </tbody>\n",
              "</table>\n",
              "</div>"
            ],
            "text/plain": [
              "       Emotion                                               Text  \\\n",
              "13500        4   I don't think so . Let's walk by the stream ....   \n",
              "13501        6   150 ? No , I'm not really interested in this ...   \n",
              "13502        5                        I doubt if I can pass it .    \n",
              "13503        5              I am sorry . It's a one-price shop .    \n",
              "13504        6   Hey ! The movie hasn't even started and they'...   \n",
              "\n",
              "                                               CleanText  \n",
              "13500      think let walk stream sure find waterfall map  \n",
              "13501  really interested place big enough near enough...  \n",
              "13502                                          doubt pas  \n",
              "13503                                         sorry shop  \n",
              "13504                 hey movie even started almost gone  "
            ]
          },
          "metadata": {
            "tags": []
          },
          "execution_count": 95
        }
      ]
    },
    {
      "cell_type": "code",
      "metadata": {
        "id": "2OooutbqB-gT"
      },
      "source": [
        "X_train = data[['CleanText']]\n",
        "X_test = test[['CleanText']]\n",
        "Y_train = data[['Emotion']]\n",
        "Y_test = test[['Emotion']]"
      ],
      "execution_count": null,
      "outputs": []
    },
    {
      "cell_type": "markdown",
      "metadata": {
        "id": "8vlaSoK8uyz0"
      },
      "source": [
        "# Feature Extraction and Model training\n",
        "## Model 1: Bag Of Words"
      ]
    },
    {
      "cell_type": "code",
      "metadata": {
        "id": "2vA_tHcBuyz1"
      },
      "source": [
        "def clean_text(words):\n",
        "    words = re.sub(r'http\\S+', '', str(words))\n",
        "    words = words.lower()\n",
        "    words = word_tokenize(words)\n",
        "    words = [word for word in words if word.isalpha()]\n",
        "    reformed = [appos[word] if word in appos else word for word in words]\n",
        "    reformed = [lemmatizer.lemmatize(word) for word in reformed if word not in set(stop_words)]\n",
        "    reformed = [word for word in reformed if len(word) > 2]\n",
        "    #reformed = ' '.join(reformed)\n",
        "    return reformed\n",
        "\n",
        "df_new['CleanText'] = df_new['Text'].apply(clean_text)"
      ],
      "execution_count": null,
      "outputs": []
    },
    {
      "cell_type": "code",
      "metadata": {
        "id": "Tj5ZzrQ2uyz1",
        "outputId": "85625c4a-b30a-49dd-96ad-b0f530172ca0"
      },
      "source": [
        "df_new.head()"
      ],
      "execution_count": null,
      "outputs": [
        {
          "output_type": "execute_result",
          "data": {
            "text/html": [
              "<div>\n",
              "<style scoped>\n",
              "    .dataframe tbody tr th:only-of-type {\n",
              "        vertical-align: middle;\n",
              "    }\n",
              "\n",
              "    .dataframe tbody tr th {\n",
              "        vertical-align: top;\n",
              "    }\n",
              "\n",
              "    .dataframe thead th {\n",
              "        text-align: right;\n",
              "    }\n",
              "</style>\n",
              "<table border=\"1\" class=\"dataframe\">\n",
              "  <thead>\n",
              "    <tr style=\"text-align: right;\">\n",
              "      <th></th>\n",
              "      <th>Emotion</th>\n",
              "      <th>Text</th>\n",
              "      <th>CleanText</th>\n",
              "    </tr>\n",
              "  </thead>\n",
              "  <tbody>\n",
              "    <tr>\n",
              "      <th>0</th>\n",
              "      <td>4</td>\n",
              "      <td>You're welcome .</td>\n",
              "      <td>[welcome]</td>\n",
              "    </tr>\n",
              "    <tr>\n",
              "      <th>1</th>\n",
              "      <td>4</td>\n",
              "      <td>The lyrics of the new song are beautiful , to...</td>\n",
              "      <td>[lyric, new, song, beautiful, sing]</td>\n",
              "    </tr>\n",
              "    <tr>\n",
              "      <th>2</th>\n",
              "      <td>0</td>\n",
              "      <td>That ’ s right . Another thing to remember wh...</td>\n",
              "      <td>[right, another, thing, remember, surfing, add...</td>\n",
              "    </tr>\n",
              "    <tr>\n",
              "      <th>3</th>\n",
              "      <td>4</td>\n",
              "      <td>You're welcome .</td>\n",
              "      <td>[welcome]</td>\n",
              "    </tr>\n",
              "    <tr>\n",
              "      <th>4</th>\n",
              "      <td>5</td>\n",
              "      <td>Any rain right now would be pointless .</td>\n",
              "      <td>[rain, right, would, pointless]</td>\n",
              "    </tr>\n",
              "  </tbody>\n",
              "</table>\n",
              "</div>"
            ],
            "text/plain": [
              "   Emotion                                               Text  \\\n",
              "0        4                                  You're welcome .    \n",
              "1        4   The lyrics of the new song are beautiful , to...   \n",
              "2        0   That ’ s right . Another thing to remember wh...   \n",
              "3        4                                  You're welcome .    \n",
              "4        5           Any rain right now would be pointless .    \n",
              "\n",
              "                                           CleanText  \n",
              "0                                          [welcome]  \n",
              "1                [lyric, new, song, beautiful, sing]  \n",
              "2  [right, another, thing, remember, surfing, add...  \n",
              "3                                          [welcome]  \n",
              "4                    [rain, right, would, pointless]  "
            ]
          },
          "metadata": {
            "tags": []
          },
          "execution_count": 129
        }
      ]
    },
    {
      "cell_type": "code",
      "metadata": {
        "id": "noAojX4muyz3"
      },
      "source": [
        "all_words = []\n",
        "\n",
        "for sentence in df_new['CleanText']:\n",
        "    for word in sentence:\n",
        "        all_words.append(word)"
      ],
      "execution_count": null,
      "outputs": []
    },
    {
      "cell_type": "code",
      "metadata": {
        "id": "cHo9kIr8uyz3",
        "outputId": "b0bb6011-9a71-461f-81e9-fdcd2f92dc8d"
      },
      "source": [
        "len(all_words)"
      ],
      "execution_count": null,
      "outputs": [
        {
          "output_type": "execute_result",
          "data": {
            "text/plain": [
              "68354"
            ]
          },
          "metadata": {
            "tags": []
          },
          "execution_count": 131
        }
      ]
    },
    {
      "cell_type": "code",
      "metadata": {
        "id": "yfbpWRlSuyz4"
      },
      "source": [
        "all_words = nltk.FreqDist(all_words)"
      ],
      "execution_count": null,
      "outputs": []
    },
    {
      "cell_type": "code",
      "metadata": {
        "id": "xu_KFbVfuyz4"
      },
      "source": [
        "word_features = list(all_words.keys())[:3000]"
      ],
      "execution_count": null,
      "outputs": []
    },
    {
      "cell_type": "code",
      "metadata": {
        "id": "glQw6P5Buyz4"
      },
      "source": [
        "def find_features(document):\n",
        "    words = set(document)\n",
        "    features = {}\n",
        "    for w in word_features:\n",
        "        features[w] = (w in words)\n",
        "    return features    "
      ],
      "execution_count": null,
      "outputs": []
    },
    {
      "cell_type": "code",
      "metadata": {
        "id": "9gEhnsj9uyz5"
      },
      "source": [
        "#featuresets = [find_features(sentence) for sentence in X]\n",
        "featuresets = []\n",
        "for i in range(0,14522):\n",
        "    featuresets.append(find_features(df_new['CleanText'][i]))"
      ],
      "execution_count": null,
      "outputs": []
    },
    {
      "cell_type": "code",
      "metadata": {
        "id": "sH-IkrGyuyz5"
      },
      "source": [
        "fvectorbow = pd.DataFrame.from_dict(featuresets)"
      ],
      "execution_count": null,
      "outputs": []
    },
    {
      "cell_type": "code",
      "metadata": {
        "id": "nWwZCEY4uyz6",
        "outputId": "9efef250-4f1f-4312-b1f6-f6ab8b3de4c1"
      },
      "source": [
        "fvectorbow.shape"
      ],
      "execution_count": null,
      "outputs": [
        {
          "output_type": "execute_result",
          "data": {
            "text/plain": [
              "(14522, 3000)"
            ]
          },
          "metadata": {
            "tags": []
          },
          "execution_count": 137
        }
      ]
    },
    {
      "cell_type": "code",
      "metadata": {
        "id": "rNTl0FJjuyz6",
        "outputId": "1ca76c5e-2bfa-45ca-99ef-cd07cb217a73"
      },
      "source": [
        "fvectorbow.head()"
      ],
      "execution_count": null,
      "outputs": [
        {
          "output_type": "execute_result",
          "data": {
            "text/html": [
              "<div>\n",
              "<style scoped>\n",
              "    .dataframe tbody tr th:only-of-type {\n",
              "        vertical-align: middle;\n",
              "    }\n",
              "\n",
              "    .dataframe tbody tr th {\n",
              "        vertical-align: top;\n",
              "    }\n",
              "\n",
              "    .dataframe thead th {\n",
              "        text-align: right;\n",
              "    }\n",
              "</style>\n",
              "<table border=\"1\" class=\"dataframe\">\n",
              "  <thead>\n",
              "    <tr style=\"text-align: right;\">\n",
              "      <th></th>\n",
              "      <th>welcome</th>\n",
              "      <th>lyric</th>\n",
              "      <th>new</th>\n",
              "      <th>song</th>\n",
              "      <th>beautiful</th>\n",
              "      <th>sing</th>\n",
              "      <th>right</th>\n",
              "      <th>another</th>\n",
              "      <th>thing</th>\n",
              "      <th>remember</th>\n",
              "      <th>...</th>\n",
              "      <th>luxury</th>\n",
              "      <th>heatstroke</th>\n",
              "      <th>chaotic</th>\n",
              "      <th>faith</th>\n",
              "      <th>lock</th>\n",
              "      <th>hill</th>\n",
              "      <th>filed</th>\n",
              "      <th>divorce</th>\n",
              "      <th>trust</th>\n",
              "      <th>dependable</th>\n",
              "    </tr>\n",
              "  </thead>\n",
              "  <tbody>\n",
              "    <tr>\n",
              "      <th>0</th>\n",
              "      <td>True</td>\n",
              "      <td>False</td>\n",
              "      <td>False</td>\n",
              "      <td>False</td>\n",
              "      <td>False</td>\n",
              "      <td>False</td>\n",
              "      <td>False</td>\n",
              "      <td>False</td>\n",
              "      <td>False</td>\n",
              "      <td>False</td>\n",
              "      <td>...</td>\n",
              "      <td>False</td>\n",
              "      <td>False</td>\n",
              "      <td>False</td>\n",
              "      <td>False</td>\n",
              "      <td>False</td>\n",
              "      <td>False</td>\n",
              "      <td>False</td>\n",
              "      <td>False</td>\n",
              "      <td>False</td>\n",
              "      <td>False</td>\n",
              "    </tr>\n",
              "    <tr>\n",
              "      <th>1</th>\n",
              "      <td>False</td>\n",
              "      <td>True</td>\n",
              "      <td>True</td>\n",
              "      <td>True</td>\n",
              "      <td>True</td>\n",
              "      <td>True</td>\n",
              "      <td>False</td>\n",
              "      <td>False</td>\n",
              "      <td>False</td>\n",
              "      <td>False</td>\n",
              "      <td>...</td>\n",
              "      <td>False</td>\n",
              "      <td>False</td>\n",
              "      <td>False</td>\n",
              "      <td>False</td>\n",
              "      <td>False</td>\n",
              "      <td>False</td>\n",
              "      <td>False</td>\n",
              "      <td>False</td>\n",
              "      <td>False</td>\n",
              "      <td>False</td>\n",
              "    </tr>\n",
              "    <tr>\n",
              "      <th>2</th>\n",
              "      <td>False</td>\n",
              "      <td>False</td>\n",
              "      <td>False</td>\n",
              "      <td>False</td>\n",
              "      <td>False</td>\n",
              "      <td>False</td>\n",
              "      <td>True</td>\n",
              "      <td>True</td>\n",
              "      <td>True</td>\n",
              "      <td>True</td>\n",
              "      <td>...</td>\n",
              "      <td>False</td>\n",
              "      <td>False</td>\n",
              "      <td>False</td>\n",
              "      <td>False</td>\n",
              "      <td>False</td>\n",
              "      <td>False</td>\n",
              "      <td>False</td>\n",
              "      <td>False</td>\n",
              "      <td>False</td>\n",
              "      <td>False</td>\n",
              "    </tr>\n",
              "    <tr>\n",
              "      <th>3</th>\n",
              "      <td>True</td>\n",
              "      <td>False</td>\n",
              "      <td>False</td>\n",
              "      <td>False</td>\n",
              "      <td>False</td>\n",
              "      <td>False</td>\n",
              "      <td>False</td>\n",
              "      <td>False</td>\n",
              "      <td>False</td>\n",
              "      <td>False</td>\n",
              "      <td>...</td>\n",
              "      <td>False</td>\n",
              "      <td>False</td>\n",
              "      <td>False</td>\n",
              "      <td>False</td>\n",
              "      <td>False</td>\n",
              "      <td>False</td>\n",
              "      <td>False</td>\n",
              "      <td>False</td>\n",
              "      <td>False</td>\n",
              "      <td>False</td>\n",
              "    </tr>\n",
              "    <tr>\n",
              "      <th>4</th>\n",
              "      <td>False</td>\n",
              "      <td>False</td>\n",
              "      <td>False</td>\n",
              "      <td>False</td>\n",
              "      <td>False</td>\n",
              "      <td>False</td>\n",
              "      <td>True</td>\n",
              "      <td>False</td>\n",
              "      <td>False</td>\n",
              "      <td>False</td>\n",
              "      <td>...</td>\n",
              "      <td>False</td>\n",
              "      <td>False</td>\n",
              "      <td>False</td>\n",
              "      <td>False</td>\n",
              "      <td>False</td>\n",
              "      <td>False</td>\n",
              "      <td>False</td>\n",
              "      <td>False</td>\n",
              "      <td>False</td>\n",
              "      <td>False</td>\n",
              "    </tr>\n",
              "  </tbody>\n",
              "</table>\n",
              "<p>5 rows × 3000 columns</p>\n",
              "</div>"
            ],
            "text/plain": [
              "   welcome  lyric    new   song  beautiful   sing  right  another  thing  \\\n",
              "0     True  False  False  False      False  False  False    False  False   \n",
              "1    False   True   True   True       True   True  False    False  False   \n",
              "2    False  False  False  False      False  False   True     True   True   \n",
              "3     True  False  False  False      False  False  False    False  False   \n",
              "4    False  False  False  False      False  False   True    False  False   \n",
              "\n",
              "   remember  ...  luxury  heatstroke  chaotic  faith   lock   hill  filed  \\\n",
              "0     False  ...   False       False    False  False  False  False  False   \n",
              "1     False  ...   False       False    False  False  False  False  False   \n",
              "2      True  ...   False       False    False  False  False  False  False   \n",
              "3     False  ...   False       False    False  False  False  False  False   \n",
              "4     False  ...   False       False    False  False  False  False  False   \n",
              "\n",
              "   divorce  trust  dependable  \n",
              "0    False  False       False  \n",
              "1    False  False       False  \n",
              "2    False  False       False  \n",
              "3    False  False       False  \n",
              "4    False  False       False  \n",
              "\n",
              "[5 rows x 3000 columns]"
            ]
          },
          "metadata": {
            "tags": []
          },
          "execution_count": 138
        }
      ]
    },
    {
      "cell_type": "code",
      "metadata": {
        "id": "7WGsqtrIuyz7"
      },
      "source": [
        "fvectorbow = fvectorbow.astype(int)"
      ],
      "execution_count": null,
      "outputs": []
    },
    {
      "cell_type": "code",
      "metadata": {
        "id": "fJbFrtpLuyz7",
        "outputId": "e46b5d9e-a25d-44c7-9b3a-53fe92caaab1"
      },
      "source": [
        "fvectorbow.head()"
      ],
      "execution_count": null,
      "outputs": [
        {
          "output_type": "execute_result",
          "data": {
            "text/html": [
              "<div>\n",
              "<style scoped>\n",
              "    .dataframe tbody tr th:only-of-type {\n",
              "        vertical-align: middle;\n",
              "    }\n",
              "\n",
              "    .dataframe tbody tr th {\n",
              "        vertical-align: top;\n",
              "    }\n",
              "\n",
              "    .dataframe thead th {\n",
              "        text-align: right;\n",
              "    }\n",
              "</style>\n",
              "<table border=\"1\" class=\"dataframe\">\n",
              "  <thead>\n",
              "    <tr style=\"text-align: right;\">\n",
              "      <th></th>\n",
              "      <th>welcome</th>\n",
              "      <th>lyric</th>\n",
              "      <th>new</th>\n",
              "      <th>song</th>\n",
              "      <th>beautiful</th>\n",
              "      <th>sing</th>\n",
              "      <th>right</th>\n",
              "      <th>another</th>\n",
              "      <th>thing</th>\n",
              "      <th>remember</th>\n",
              "      <th>...</th>\n",
              "      <th>luxury</th>\n",
              "      <th>heatstroke</th>\n",
              "      <th>chaotic</th>\n",
              "      <th>faith</th>\n",
              "      <th>lock</th>\n",
              "      <th>hill</th>\n",
              "      <th>filed</th>\n",
              "      <th>divorce</th>\n",
              "      <th>trust</th>\n",
              "      <th>dependable</th>\n",
              "    </tr>\n",
              "  </thead>\n",
              "  <tbody>\n",
              "    <tr>\n",
              "      <th>0</th>\n",
              "      <td>1</td>\n",
              "      <td>0</td>\n",
              "      <td>0</td>\n",
              "      <td>0</td>\n",
              "      <td>0</td>\n",
              "      <td>0</td>\n",
              "      <td>0</td>\n",
              "      <td>0</td>\n",
              "      <td>0</td>\n",
              "      <td>0</td>\n",
              "      <td>...</td>\n",
              "      <td>0</td>\n",
              "      <td>0</td>\n",
              "      <td>0</td>\n",
              "      <td>0</td>\n",
              "      <td>0</td>\n",
              "      <td>0</td>\n",
              "      <td>0</td>\n",
              "      <td>0</td>\n",
              "      <td>0</td>\n",
              "      <td>0</td>\n",
              "    </tr>\n",
              "    <tr>\n",
              "      <th>1</th>\n",
              "      <td>0</td>\n",
              "      <td>1</td>\n",
              "      <td>1</td>\n",
              "      <td>1</td>\n",
              "      <td>1</td>\n",
              "      <td>1</td>\n",
              "      <td>0</td>\n",
              "      <td>0</td>\n",
              "      <td>0</td>\n",
              "      <td>0</td>\n",
              "      <td>...</td>\n",
              "      <td>0</td>\n",
              "      <td>0</td>\n",
              "      <td>0</td>\n",
              "      <td>0</td>\n",
              "      <td>0</td>\n",
              "      <td>0</td>\n",
              "      <td>0</td>\n",
              "      <td>0</td>\n",
              "      <td>0</td>\n",
              "      <td>0</td>\n",
              "    </tr>\n",
              "    <tr>\n",
              "      <th>2</th>\n",
              "      <td>0</td>\n",
              "      <td>0</td>\n",
              "      <td>0</td>\n",
              "      <td>0</td>\n",
              "      <td>0</td>\n",
              "      <td>0</td>\n",
              "      <td>1</td>\n",
              "      <td>1</td>\n",
              "      <td>1</td>\n",
              "      <td>1</td>\n",
              "      <td>...</td>\n",
              "      <td>0</td>\n",
              "      <td>0</td>\n",
              "      <td>0</td>\n",
              "      <td>0</td>\n",
              "      <td>0</td>\n",
              "      <td>0</td>\n",
              "      <td>0</td>\n",
              "      <td>0</td>\n",
              "      <td>0</td>\n",
              "      <td>0</td>\n",
              "    </tr>\n",
              "    <tr>\n",
              "      <th>3</th>\n",
              "      <td>1</td>\n",
              "      <td>0</td>\n",
              "      <td>0</td>\n",
              "      <td>0</td>\n",
              "      <td>0</td>\n",
              "      <td>0</td>\n",
              "      <td>0</td>\n",
              "      <td>0</td>\n",
              "      <td>0</td>\n",
              "      <td>0</td>\n",
              "      <td>...</td>\n",
              "      <td>0</td>\n",
              "      <td>0</td>\n",
              "      <td>0</td>\n",
              "      <td>0</td>\n",
              "      <td>0</td>\n",
              "      <td>0</td>\n",
              "      <td>0</td>\n",
              "      <td>0</td>\n",
              "      <td>0</td>\n",
              "      <td>0</td>\n",
              "    </tr>\n",
              "    <tr>\n",
              "      <th>4</th>\n",
              "      <td>0</td>\n",
              "      <td>0</td>\n",
              "      <td>0</td>\n",
              "      <td>0</td>\n",
              "      <td>0</td>\n",
              "      <td>0</td>\n",
              "      <td>1</td>\n",
              "      <td>0</td>\n",
              "      <td>0</td>\n",
              "      <td>0</td>\n",
              "      <td>...</td>\n",
              "      <td>0</td>\n",
              "      <td>0</td>\n",
              "      <td>0</td>\n",
              "      <td>0</td>\n",
              "      <td>0</td>\n",
              "      <td>0</td>\n",
              "      <td>0</td>\n",
              "      <td>0</td>\n",
              "      <td>0</td>\n",
              "      <td>0</td>\n",
              "    </tr>\n",
              "  </tbody>\n",
              "</table>\n",
              "<p>5 rows × 3000 columns</p>\n",
              "</div>"
            ],
            "text/plain": [
              "   welcome  lyric  new  song  beautiful  sing  right  another  thing  \\\n",
              "0        1      0    0     0          0     0      0        0      0   \n",
              "1        0      1    1     1          1     1      0        0      0   \n",
              "2        0      0    0     0          0     0      1        1      1   \n",
              "3        1      0    0     0          0     0      0        0      0   \n",
              "4        0      0    0     0          0     0      1        0      0   \n",
              "\n",
              "   remember  ...  luxury  heatstroke  chaotic  faith  lock  hill  filed  \\\n",
              "0         0  ...       0           0        0      0     0     0      0   \n",
              "1         0  ...       0           0        0      0     0     0      0   \n",
              "2         1  ...       0           0        0      0     0     0      0   \n",
              "3         0  ...       0           0        0      0     0     0      0   \n",
              "4         0  ...       0           0        0      0     0     0      0   \n",
              "\n",
              "   divorce  trust  dependable  \n",
              "0        0      0           0  \n",
              "1        0      0           0  \n",
              "2        0      0           0  \n",
              "3        0      0           0  \n",
              "4        0      0           0  \n",
              "\n",
              "[5 rows x 3000 columns]"
            ]
          },
          "metadata": {
            "tags": []
          },
          "execution_count": 144
        }
      ]
    },
    {
      "cell_type": "code",
      "metadata": {
        "id": "8NlETttsuyz8"
      },
      "source": [
        "#fvector-bow.to_csv(r\"fvector-bow.csv\")"
      ],
      "execution_count": null,
      "outputs": []
    },
    {
      "cell_type": "markdown",
      "metadata": {
        "id": "ag5Yv7SeFrSg"
      },
      "source": [
        "## Model 2: TFIDF"
      ]
    },
    {
      "cell_type": "code",
      "metadata": {
        "id": "0qxfXAQ_PxdD"
      },
      "source": [
        "tfv = TfidfVectorizer(min_df=3,  max_features=None, \n",
        "            strip_accents='unicode', analyzer='word',token_pattern=r'\\w{1,}',\n",
        "            ngram_range=(1, 3), use_idf=1,smooth_idf=1,sublinear_tf=1)\n",
        "\n",
        "# Fitting TF-IDF to both training and test sets (semi-supervised learning)\n",
        "tfv.fit(list(data['CleanText']) + list(test['CleanText']))\n",
        "X_train_tfv =  tfv.transform(data['CleanText']) \n",
        "X_test_tfv = tfv.transform(test['CleanText'])"
      ],
      "execution_count": null,
      "outputs": []
    },
    {
      "cell_type": "code",
      "metadata": {
        "colab": {
          "base_uri": "https://localhost:8080/"
        },
        "id": "9i-U02rWPxfE",
        "outputId": "562b305f-8442-42a0-fd73-ef41a182b584"
      },
      "source": [
        "X_train_tfv.shape, X_test_tfv.shape"
      ],
      "execution_count": null,
      "outputs": [
        {
          "output_type": "execute_result",
          "data": {
            "text/plain": [
              "((13500, 5465), (1022, 5465))"
            ]
          },
          "metadata": {
            "tags": []
          },
          "execution_count": 37
        }
      ]
    },
    {
      "cell_type": "code",
      "metadata": {
        "id": "Rag8j4yLQGBE",
        "outputId": "8c30a4ea-3fd6-4313-9b89-7e5ffd7ced65"
      },
      "source": [
        "print(type(X_train_tfv))\n",
        "print(type(Y_train))\n",
        "#Y_train.values[:200]"
      ],
      "execution_count": null,
      "outputs": [
        {
          "output_type": "stream",
          "text": [
            "<class 'scipy.sparse.csr.csr_matrix'>\n",
            "<class 'pandas.core.frame.DataFrame'>\n"
          ],
          "name": "stdout"
        }
      ]
    },
    {
      "cell_type": "code",
      "metadata": {
        "id": "vdj2dBJo8L6D"
      },
      "source": [
        "#X_temp = pd.DataFrame(X_train_tfv.toarray())"
      ],
      "execution_count": null,
      "outputs": []
    },
    {
      "cell_type": "code",
      "metadata": {
        "id": "EFX2jMsv8L6D"
      },
      "source": [
        "#X_temp.head()"
      ],
      "execution_count": null,
      "outputs": []
    },
    {
      "cell_type": "code",
      "metadata": {
        "id": "Q-iBFThv8L6E"
      },
      "source": [
        "#X_temp.shape"
      ],
      "execution_count": null,
      "outputs": []
    },
    {
      "cell_type": "code",
      "metadata": {
        "id": "ghVgvHYV8L6E"
      },
      "source": [
        "#X_temp.to_csv(r\"fvector_tfidf.csv\")"
      ],
      "execution_count": null,
      "outputs": []
    },
    {
      "cell_type": "code",
      "metadata": {
        "id": "Sr1pAR4S8L6F"
      },
      "source": [
        "#X_temp.tail()"
      ],
      "execution_count": null,
      "outputs": []
    },
    {
      "cell_type": "markdown",
      "metadata": {
        "id": "VaToNcoiNuqu"
      },
      "source": [
        "## SVM model on TFIDF feature vector"
      ]
    },
    {
      "cell_type": "code",
      "metadata": {
        "id": "ouWoyPQePxih"
      },
      "source": [
        "# hyperparameter tuning parameters\n",
        "params_grid = [{'kernel':['rbf'], 'gamma': [1e-3, 1e-4], 'C': [1e-1, 1, 10, 100, 1000]},\n",
        "               {'kernel': ['linear'], 'C': [1e-1, 1, 10, 100, 1000]}]"
      ],
      "execution_count": null,
      "outputs": []
    },
    {
      "cell_type": "code",
      "metadata": {
        "colab": {
          "base_uri": "https://localhost:8080/"
        },
        "id": "cjJWb6wkPidM",
        "outputId": "124a067b-42d9-4aff-ec1a-1a9af03f432a"
      },
      "source": [
        "# Performing CV to tune parameters for best SVM fit \n",
        "svm_model = GridSearchCV(SVC(), params_grid,\n",
        "                       n_jobs = -1,\n",
        "                       verbose = 10, refit=True,cv=5)\n",
        "svm_model.fit(X_train_tfv, Y_train)"
      ],
      "execution_count": null,
      "outputs": [
        {
          "output_type": "stream",
          "text": [
            "Fitting 5 folds for each of 15 candidates, totalling 75 fits\n"
          ],
          "name": "stdout"
        },
        {
          "output_type": "stream",
          "text": [
            "[Parallel(n_jobs=-1)]: Using backend LokyBackend with 4 concurrent workers.\n",
            "[Parallel(n_jobs=-1)]: Done   5 tasks      | elapsed:  1.1min\n",
            "[Parallel(n_jobs=-1)]: Done  10 tasks      | elapsed:  1.7min\n",
            "[Parallel(n_jobs=-1)]: Done  17 tasks      | elapsed:  2.8min\n",
            "[Parallel(n_jobs=-1)]: Done  24 tasks      | elapsed:  3.4min\n",
            "[Parallel(n_jobs=-1)]: Done  33 tasks      | elapsed:  5.1min\n",
            "[Parallel(n_jobs=-1)]: Done  42 tasks      | elapsed:  6.3min\n",
            "[Parallel(n_jobs=-1)]: Done  53 tasks      | elapsed:  7.8min\n",
            "[Parallel(n_jobs=-1)]: Done  64 tasks      | elapsed:  8.9min\n",
            "[Parallel(n_jobs=-1)]: Done  75 out of  75 | elapsed: 22.0min finished\n",
            "C:\\Users\\Ananay Srivastava\\Anaconda3\\envs\\tensorflow\\lib\\site-packages\\sklearn\\utils\\validation.py:72: DataConversionWarning: A column-vector y was passed when a 1d array was expected. Please change the shape of y to (n_samples, ), for example using ravel().\n",
            "  return f(**kwargs)\n"
          ],
          "name": "stderr"
        },
        {
          "output_type": "execute_result",
          "data": {
            "text/plain": [
              "GridSearchCV(cv=5, estimator=SVC(), n_jobs=-1,\n",
              "             param_grid=[{'C': [0.1, 1, 10, 100, 1000],\n",
              "                          'gamma': [0.001, 0.0001], 'kernel': ['rbf']},\n",
              "                         {'C': [0.1, 1, 10, 100, 1000], 'kernel': ['linear']}],\n",
              "             verbose=10)"
            ]
          },
          "metadata": {
            "tags": []
          },
          "execution_count": 42
        }
      ]
    },
    {
      "cell_type": "code",
      "metadata": {
        "colab": {
          "base_uri": "https://localhost:8080/"
        },
        "id": "1OZhD4YgQT3b",
        "outputId": "08b2cf50-a8a4-4324-d9cf-bb45a4371965"
      },
      "source": [
        "# View the accuracy score\n",
        "print('Best score for training data:', svm_model.best_score_,\"\\n\") \n",
        "\n",
        "# View the best parameters for the model found using grid search\n",
        "print('Best C:',svm_model.best_estimator_.C,\"\\n\") \n",
        "print('Best Kernel:',svm_model.best_estimator_.kernel,\"\\n\")\n",
        "print('Best Gamma:',svm_model.best_estimator_.gamma,\"\\n\")\n",
        "\n",
        "final_model = svm_model.best_estimator_\n",
        "Y_pred = final_model.predict(X_test_tfv)"
      ],
      "execution_count": null,
      "outputs": [
        {
          "output_type": "stream",
          "text": [
            "Best score for training data: 0.6056296296296296 \n",
            "\n",
            "Best C: 1000 \n",
            "\n",
            "Best Kernel: rbf \n",
            "\n",
            "Best Gamma: 0.001 \n",
            "\n"
          ],
          "name": "stdout"
        }
      ]
    },
    {
      "cell_type": "code",
      "metadata": {
        "colab": {
          "base_uri": "https://localhost:8080/"
        },
        "id": "mdyhahmXQVIm",
        "outputId": "00e399e6-e72b-4750-e721-1cea6c4ec1b3"
      },
      "source": [
        "# Making the Confusion Matrix\n",
        "#print(pd.crosstab(Y_test_label, Y_pred_label, rownames=['Actual Activity'], \n",
        "#colnames=['Predicted Activity']))\n",
        "print(confusion_matrix(Y_test,Y_pred))\n",
        "print(\"\\n\")\n",
        "print(classification_report(Y_test,Y_pred))\n",
        "\n",
        "print(\"Training set score for SVM: %f\" % final_model.score(X_train_tfv , Y_train))\n",
        "print(\"Testing  set score for SVM: %f\" % final_model.score(X_test_tfv, Y_test))\n",
        "\n",
        "svm_model.score"
      ],
      "execution_count": null,
      "outputs": [
        {
          "output_type": "stream",
          "text": [
            "[[242   2   1   1  75  13  10]\n",
            " [ 33  23   0   1   8   3   5]\n",
            " [ 10   7   5   0   1   0   0]\n",
            " [  6   0   0   5   1   1   1]\n",
            " [ 92   2   0   0 246   1   8]\n",
            " [ 27   4   0   1   5  46   5]\n",
            " [ 33   6   0   0  15   1  76]]\n",
            "\n",
            "\n",
            "              precision    recall  f1-score   support\n",
            "\n",
            "           0       0.55      0.70      0.61       344\n",
            "           1       0.52      0.32      0.39        73\n",
            "           2       0.83      0.22      0.34        23\n",
            "           3       0.62      0.36      0.45        14\n",
            "           4       0.70      0.70      0.70       349\n",
            "           5       0.71      0.52      0.60        88\n",
            "           6       0.72      0.58      0.64       131\n",
            "\n",
            "    accuracy                           0.63      1022\n",
            "   macro avg       0.67      0.49      0.54      1022\n",
            "weighted avg       0.64      0.63      0.62      1022\n",
            "\n",
            "Training set score for SVM: 0.792667\n",
            "Testing  set score for SVM: 0.629159\n"
          ],
          "name": "stdout"
        },
        {
          "output_type": "execute_result",
          "data": {
            "text/plain": [
              "<bound method BaseSearchCV.score of GridSearchCV(cv=5, estimator=SVC(), n_jobs=-1,\n",
              "             param_grid=[{'C': [0.1, 1, 10, 100, 1000],\n",
              "                          'gamma': [0.001, 0.0001], 'kernel': ['rbf']},\n",
              "                         {'C': [0.1, 1, 10, 100, 1000], 'kernel': ['linear']}],\n",
              "             verbose=10)>"
            ]
          },
          "metadata": {
            "tags": []
          },
          "execution_count": 44
        }
      ]
    },
    {
      "cell_type": "markdown",
      "metadata": {
        "id": "DgOM3Z6y5JdF"
      },
      "source": [
        "# Feature Selection\n",
        "## Truncated Singular Value Decomposition (SVD) method"
      ]
    },
    {
      "cell_type": "code",
      "metadata": {
        "id": "bAZmKerxQVTw"
      },
      "source": [
        "# Apply SVD, I chose 120 components. 120-200 components are good enough for SVM model.\n",
        "svd = decomposition.TruncatedSVD(n_components=120)\n",
        "svd.fit(X_train_tfv)\n",
        "X_train_svd = svd.transform(X_train_tfv)\n",
        "X_test_svd = svd.transform(X_test_tfv)\n",
        "\n",
        "# Scale the data obtained from SVD. Renaming variable to reuse without scaling.\n",
        "scl = preprocessing.StandardScaler()\n",
        "scl.fit(X_train_svd)\n",
        "X_train_svd_scl = scl.transform(X_train_svd)\n",
        "X_test_svd_scl = scl.transform(X_test_svd)"
      ],
      "execution_count": null,
      "outputs": []
    },
    {
      "cell_type": "code",
      "metadata": {
        "colab": {
          "base_uri": "https://localhost:8080/"
        },
        "id": "gGtwHWeo5NJk",
        "outputId": "b27aae57-fecf-40fb-fad9-44da8cbb54bb"
      },
      "source": [
        "X_train_svd_scl.shape, X_test_svd_scl.shape"
      ],
      "execution_count": null,
      "outputs": [
        {
          "output_type": "execute_result",
          "data": {
            "text/plain": [
              "((13500, 120), (1022, 120))"
            ]
          },
          "metadata": {
            "tags": []
          },
          "execution_count": 47
        }
      ]
    },
    {
      "cell_type": "code",
      "metadata": {
        "id": "Xid6WozO8L6J",
        "outputId": "ec1fe878-cc3b-46a5-9674-73f2c75e6cd8"
      },
      "source": [
        "type(X_train_svd_scl)"
      ],
      "execution_count": null,
      "outputs": [
        {
          "output_type": "execute_result",
          "data": {
            "text/plain": [
              "numpy.ndarray"
            ]
          },
          "metadata": {
            "tags": []
          },
          "execution_count": 48
        }
      ]
    },
    {
      "cell_type": "code",
      "metadata": {
        "id": "ApEUdeNl8L6J"
      },
      "source": [
        "#X_fs = pd.DataFrame(X_train_svd_scl)"
      ],
      "execution_count": null,
      "outputs": []
    },
    {
      "cell_type": "code",
      "metadata": {
        "id": "Z5Cd0HXE8L6J"
      },
      "source": [
        "#X_fs.head()"
      ],
      "execution_count": null,
      "outputs": []
    },
    {
      "cell_type": "code",
      "metadata": {
        "id": "BZynqc9_8L6K"
      },
      "source": [
        "#X_fs.to_csv(r\"fvector-svd.csv\")"
      ],
      "execution_count": null,
      "outputs": []
    },
    {
      "cell_type": "code",
      "metadata": {
        "colab": {
          "base_uri": "https://localhost:8080/"
        },
        "id": "r9eD-5HFUS9w",
        "outputId": "16256412-ea9b-4398-f243-c1b04724b664"
      },
      "source": [
        "from sklearn.linear_model import SGDClassifier\n",
        "from sklearn.model_selection import GridSearchCV\n",
        "from sklearn.calibration import CalibratedClassifierCV\n",
        "\n",
        "# initialize Our first RandomForestRegressor model...\n",
        "svm = SVC(C=1)\n",
        "regr2 = CalibratedClassifierCV(svm)\n",
        "# declare parameters for hyperparameter tuning\n",
        "regr2.fit(X_train_svd_scl, Y_train)"
      ],
      "execution_count": null,
      "outputs": [
        {
          "output_type": "stream",
          "text": [
            "C:\\Users\\Ananay Srivastava\\Anaconda3\\envs\\tensorflow\\lib\\site-packages\\sklearn\\utils\\validation.py:72: DataConversionWarning: A column-vector y was passed when a 1d array was expected. Please change the shape of y to (n_samples, ), for example using ravel().\n",
            "  return f(**kwargs)\n"
          ],
          "name": "stderr"
        },
        {
          "output_type": "execute_result",
          "data": {
            "text/plain": [
              "CalibratedClassifierCV(base_estimator=SVC(C=1))"
            ]
          },
          "metadata": {
            "tags": []
          },
          "execution_count": 52
        }
      ]
    },
    {
      "cell_type": "code",
      "metadata": {
        "id": "Nba2jT0_U8Xp"
      },
      "source": [
        "predictions = regr2.predict(X_train_svd_scl)"
      ],
      "execution_count": null,
      "outputs": []
    },
    {
      "cell_type": "code",
      "metadata": {
        "colab": {
          "base_uri": "https://localhost:8080/"
        },
        "id": "IrUlKBvYVqjU",
        "outputId": "089754c6-2f6b-4f2e-d95c-f47d125480e6"
      },
      "source": [
        "print(\"Train accuracy:\")\n",
        "print(classification_report(Y_train, predictions))"
      ],
      "execution_count": null,
      "outputs": [
        {
          "output_type": "stream",
          "text": [
            "Train accuracy:\n",
            "              precision    recall  f1-score   support\n",
            "\n",
            "           0       0.54      0.86      0.66      4656\n",
            "           1       0.93      0.06      0.11       949\n",
            "           2       0.59      0.07      0.12       330\n",
            "           3       0.00      0.00      0.00       160\n",
            "           4       0.78      0.70      0.74      4651\n",
            "           5       0.76      0.48      0.59      1062\n",
            "           6       0.72      0.49      0.58      1692\n",
            "\n",
            "    accuracy                           0.64     13500\n",
            "   macro avg       0.62      0.38      0.40     13500\n",
            "weighted avg       0.68      0.64      0.61     13500\n",
            "\n"
          ],
          "name": "stdout"
        },
        {
          "output_type": "stream",
          "text": [
            "C:\\Users\\Ananay Srivastava\\Anaconda3\\envs\\tensorflow\\lib\\site-packages\\sklearn\\metrics\\_classification.py:1221: UndefinedMetricWarning: Precision and F-score are ill-defined and being set to 0.0 in labels with no predicted samples. Use `zero_division` parameter to control this behavior.\n",
            "  _warn_prf(average, modifier, msg_start, len(result))\n"
          ],
          "name": "stderr"
        }
      ]
    },
    {
      "cell_type": "code",
      "metadata": {
        "id": "mNhnKog4ZV21"
      },
      "source": [
        "predictions = regr2.predict(X_test_svd_scl)"
      ],
      "execution_count": null,
      "outputs": []
    },
    {
      "cell_type": "code",
      "metadata": {
        "colab": {
          "base_uri": "https://localhost:8080/"
        },
        "id": "f-D05nJsanE7",
        "outputId": "831d2993-5fb7-4267-cf5e-4bf5164c6b27"
      },
      "source": [
        "print(\"Test accuracy:\")\n",
        "print(classification_report(Y_test, predictions))"
      ],
      "execution_count": null,
      "outputs": [
        {
          "output_type": "stream",
          "text": [
            "Test accuracy:\n",
            "              precision    recall  f1-score   support\n",
            "\n",
            "           0       0.46      0.77      0.58       344\n",
            "           1       0.00      0.00      0.00        73\n",
            "           2       1.00      0.04      0.08        23\n",
            "           3       0.00      0.00      0.00        14\n",
            "           4       0.67      0.58      0.63       349\n",
            "           5       0.77      0.52      0.62        88\n",
            "           6       0.74      0.50      0.59       131\n",
            "\n",
            "    accuracy                           0.57      1022\n",
            "   macro avg       0.52      0.34      0.36      1022\n",
            "weighted avg       0.57      0.57      0.54      1022\n",
            "\n"
          ],
          "name": "stdout"
        },
        {
          "output_type": "stream",
          "text": [
            "C:\\Users\\Ananay Srivastava\\Anaconda3\\envs\\tensorflow\\lib\\site-packages\\sklearn\\metrics\\_classification.py:1221: UndefinedMetricWarning: Precision and F-score are ill-defined and being set to 0.0 in labels with no predicted samples. Use `zero_division` parameter to control this behavior.\n",
            "  _warn_prf(average, modifier, msg_start, len(result))\n"
          ],
          "name": "stderr"
        }
      ]
    },
    {
      "cell_type": "markdown",
      "metadata": {
        "id": "BrdD7Bv0Q158"
      },
      "source": [
        "## Model 3: Word Vectors"
      ]
    },
    {
      "cell_type": "code",
      "metadata": {
        "id": "4JvWc9FaQ0_7"
      },
      "source": [
        "import pickle\n",
        "with open('glove_vectors', 'rb') as f:\n",
        "    model = pickle.load(f)\n",
        "    glove_words =  set(model.keys())"
      ],
      "execution_count": null,
      "outputs": []
    },
    {
      "cell_type": "code",
      "metadata": {
        "colab": {
          "base_uri": "https://localhost:8080/"
        },
        "id": "IZR0i0mvQ4Lr",
        "outputId": "dec4c168-bf83-4c12-d4ca-c2aaa6193da0"
      },
      "source": [
        "# average Word2Vec\n",
        "# compute average word2vec for each review.\n",
        "avg_w2v_vectors_train = []; # the avg-w2v for each sentence/review is stored in this list\n",
        "for sentence in tqdm(X_train['CleanText']): # for each review/sentence\n",
        "    vector = np.zeros(300) # as word vectors are of zero length\n",
        "    cnt_words =0; # num of words with a valid vector in the sentence/review\n",
        "    for word in sentence.split(): # for each word in a review/sentence\n",
        "        if word in glove_words:\n",
        "            vector += model[word]\n",
        "            cnt_words += 1\n",
        "    if cnt_words != 0:\n",
        "        vector /= cnt_words\n",
        "    avg_w2v_vectors_train.append(vector)\n",
        "\n",
        "print(len(avg_w2v_vectors_train))\n",
        "print(len(avg_w2v_vectors_train[0]))"
      ],
      "execution_count": null,
      "outputs": [
        {
          "output_type": "stream",
          "text": [
            "100%|█████████████████████████████████████████████████████████████████████████| 13500/13500 [00:00<00:00, 21842.62it/s]"
          ],
          "name": "stderr"
        },
        {
          "output_type": "stream",
          "text": [
            "13500\n",
            "300\n"
          ],
          "name": "stdout"
        },
        {
          "output_type": "stream",
          "text": [
            "\n"
          ],
          "name": "stderr"
        }
      ]
    },
    {
      "cell_type": "code",
      "metadata": {
        "colab": {
          "base_uri": "https://localhost:8080/"
        },
        "id": "rfhRkPAFQ4SB",
        "outputId": "3c53f79a-60ab-43e9-911e-701dea9e36da"
      },
      "source": [
        "# average Word2Vec\n",
        "# compute average word2vec for each review.\n",
        "avg_w2v_vectors_test = []; # the avg-w2v for each sentence/review is stored in this list\n",
        "for sentence in tqdm(X_test['CleanText']): # for each review/sentence\n",
        "    vector = np.zeros(300) # as word vectors are of zero length\n",
        "    cnt_words =0; # num of words with a valid vector in the sentence/review\n",
        "    for word in sentence.split(): # for each word in a review/sentence\n",
        "        if word in glove_words:\n",
        "            vector += model[word]\n",
        "            cnt_words += 1\n",
        "    if cnt_words != 0:\n",
        "        vector /= cnt_words\n",
        "    avg_w2v_vectors_test.append(vector)\n",
        "\n",
        "print(len(avg_w2v_vectors_test))\n",
        "print(len(avg_w2v_vectors_test[0]))"
      ],
      "execution_count": null,
      "outputs": [
        {
          "output_type": "stream",
          "text": [
            "100%|███████████████████████████████████████████████████████████████████████████| 1022/1022 [00:00<00:00, 20051.45it/s]"
          ],
          "name": "stderr"
        },
        {
          "output_type": "stream",
          "text": [
            "1022\n",
            "300\n"
          ],
          "name": "stdout"
        },
        {
          "output_type": "stream",
          "text": [
            "\n"
          ],
          "name": "stderr"
        }
      ]
    },
    {
      "cell_type": "code",
      "metadata": {
        "id": "9cJ2pFVdQ4VV"
      },
      "source": [
        "xtrain_glove = np.array(avg_w2v_vectors_train)\n",
        "xtest_glove = np.array(avg_w2v_vectors_test)"
      ],
      "execution_count": null,
      "outputs": []
    },
    {
      "cell_type": "code",
      "metadata": {
        "id": "cI4hDGDl8L6S",
        "outputId": "574f25cd-a0ef-4e28-da5b-4a8d45251a3a"
      },
      "source": [
        "xtrain_glove.shape"
      ],
      "execution_count": null,
      "outputs": [
        {
          "output_type": "execute_result",
          "data": {
            "text/plain": [
              "(13500, 300)"
            ]
          },
          "metadata": {
            "tags": []
          },
          "execution_count": 61
        }
      ]
    },
    {
      "cell_type": "code",
      "metadata": {
        "id": "1dKoEzST8L6S",
        "outputId": "8f78d890-e318-4130-a22e-9f7af98f66b8"
      },
      "source": [
        "type(xtrain_glove)"
      ],
      "execution_count": null,
      "outputs": [
        {
          "output_type": "execute_result",
          "data": {
            "text/plain": [
              "numpy.ndarray"
            ]
          },
          "metadata": {
            "tags": []
          },
          "execution_count": 62
        }
      ]
    },
    {
      "cell_type": "code",
      "metadata": {
        "id": "2XGx_3Kx8L6S"
      },
      "source": [
        "#X_word2vec = pd.DataFrame(xtrain_glove)"
      ],
      "execution_count": null,
      "outputs": []
    },
    {
      "cell_type": "code",
      "metadata": {
        "id": "i-T5bRm48L6T"
      },
      "source": [
        "#X_word2vec.head()"
      ],
      "execution_count": null,
      "outputs": []
    },
    {
      "cell_type": "code",
      "metadata": {
        "id": "XWqeRYtB8L6T"
      },
      "source": [
        "#X_word2vec.to_csv(r\"fvector-word2vec.csv\")"
      ],
      "execution_count": null,
      "outputs": []
    },
    {
      "cell_type": "markdown",
      "metadata": {
        "id": "tpH7ibWO8L6U"
      },
      "source": [
        "## XgBoost on Word2Vec feature vector"
      ]
    },
    {
      "cell_type": "code",
      "metadata": {
        "colab": {
          "base_uri": "https://localhost:8080/"
        },
        "id": "4uCEeHAnQ4ZP",
        "outputId": "3274fdda-2cb9-4096-85ad-403a6ae2342d"
      },
      "source": [
        "import xgboost as xgb\n",
        "\n",
        "# Fitting a simple xgboost on glove features\n",
        "clf = xgb.XGBClassifier(max_depth=7, n_estimators=200, colsample_bytree=0.8, \n",
        "                        subsample=0.8, nthread=10, learning_rate=0.1, silent=False)\n",
        "clf.fit(xtrain_glove, Y_train)\n",
        "predictions = clf.predict(xtest_glove)\n",
        "\n",
        "\n",
        "print (\"Test loss:\")\n",
        "print(classification_report(Y_test, predictions))"
      ],
      "execution_count": null,
      "outputs": [
        {
          "output_type": "stream",
          "text": [
            "C:\\Users\\Ananay Srivastava\\Anaconda3\\envs\\tensorflow\\lib\\site-packages\\sklearn\\utils\\validation.py:72: DataConversionWarning: A column-vector y was passed when a 1d array was expected. Please change the shape of y to (n_samples, ), for example using ravel().\n",
            "  return f(**kwargs)\n"
          ],
          "name": "stderr"
        },
        {
          "output_type": "stream",
          "text": [
            "[15:49:48] WARNING: C:\\Users\\Administrator\\workspace\\xgboost-win64_release_1.2.0\\src\\learner.cc:516: \n",
            "Parameters: { silent } might not be used.\n",
            "\n",
            "  This may not be accurate due to some parameters are only used in language bindings but\n",
            "  passed down to XGBoost core.  Or some parameters are not used but slip through this\n",
            "  verification. Please open an issue if you find above cases.\n",
            "\n",
            "\n",
            "Test loss:\n",
            "              precision    recall  f1-score   support\n",
            "\n",
            "           0       0.53      0.74      0.62       344\n",
            "           1       0.50      0.23      0.32        73\n",
            "           2       1.00      0.17      0.30        23\n",
            "           3       0.83      0.36      0.50        14\n",
            "           4       0.71      0.72      0.71       349\n",
            "           5       0.76      0.50      0.60        88\n",
            "           6       0.84      0.49      0.62       131\n",
            "\n",
            "    accuracy                           0.63      1022\n",
            "   macro avg       0.74      0.46      0.52      1022\n",
            "weighted avg       0.66      0.63      0.62      1022\n",
            "\n"
          ],
          "name": "stdout"
        }
      ]
    },
    {
      "cell_type": "markdown",
      "metadata": {
        "id": "xT4B-5ZeMaWq"
      },
      "source": [
        "## Model 4: MultiLayer Perceptron (MLP)"
      ]
    },
    {
      "cell_type": "code",
      "metadata": {
        "id": "NfsDTfd_asbv"
      },
      "source": [
        "# scale the data before any neural net:\n",
        "scl = preprocessing.StandardScaler()\n",
        "xtrain_glove_scl = scl.fit_transform(xtrain_glove)\n",
        "xtest_glove_scl = scl.transform(xtest_glove)"
      ],
      "execution_count": null,
      "outputs": []
    },
    {
      "cell_type": "code",
      "metadata": {
        "id": "Rjh-gkrvow0r"
      },
      "source": [
        "y_train_nn = np_utils.to_categorical(Y_train)\n",
        "y_test_nn = np_utils.to_categorical(Y_test)"
      ],
      "execution_count": null,
      "outputs": []
    },
    {
      "cell_type": "code",
      "metadata": {
        "id": "yoHpupzQq7jl"
      },
      "source": [
        "model = Sequential()\n",
        "\n",
        "model.add(Dense(128, input_dim=300, activation='relu'))\n",
        "model.add(Dropout(0.2))\n",
        "model.add(BatchNormalization())\n",
        "\n",
        "model.add(Dense(256, activation='relu'))\n",
        "model.add(Dropout(0.3))\n",
        "model.add(BatchNormalization())\n",
        "\n",
        "model.add(Dense(256, activation='relu'))\n",
        "model.add(Dropout(0.3))\n",
        "model.add(BatchNormalization())\n",
        "\n",
        "model.add(Dense(128, activation='relu'))\n",
        "model.add(Dropout(0.3))\n",
        "model.add(BatchNormalization())\n",
        "\n",
        "model.add(Dense(7))\n",
        "model.add(Activation('softmax'))\n",
        "\n",
        "# compile the model\n",
        "model.compile(loss='categorical_crossentropy', optimizer='adam', metrics=['accuracy'])"
      ],
      "execution_count": null,
      "outputs": []
    },
    {
      "cell_type": "code",
      "metadata": {
        "colab": {
          "base_uri": "https://localhost:8080/"
        },
        "id": "w5taq3Lg1R2e",
        "outputId": "78dc5c06-fa07-4d67-d737-be8204f6c9bd"
      },
      "source": [
        "model.summary()"
      ],
      "execution_count": null,
      "outputs": [
        {
          "output_type": "stream",
          "text": [
            "Model: \"sequential_1\"\n",
            "_________________________________________________________________\n",
            "Layer (type)                 Output Shape              Param #   \n",
            "=================================================================\n",
            "dense_1 (Dense)              (None, 128)               38528     \n",
            "_________________________________________________________________\n",
            "dropout_1 (Dropout)          (None, 128)               0         \n",
            "_________________________________________________________________\n",
            "batch_normalization_1 (Batch (None, 128)               512       \n",
            "_________________________________________________________________\n",
            "dense_2 (Dense)              (None, 256)               33024     \n",
            "_________________________________________________________________\n",
            "dropout_2 (Dropout)          (None, 256)               0         \n",
            "_________________________________________________________________\n",
            "batch_normalization_2 (Batch (None, 256)               1024      \n",
            "_________________________________________________________________\n",
            "dense_3 (Dense)              (None, 256)               65792     \n",
            "_________________________________________________________________\n",
            "dropout_3 (Dropout)          (None, 256)               0         \n",
            "_________________________________________________________________\n",
            "batch_normalization_3 (Batch (None, 256)               1024      \n",
            "_________________________________________________________________\n",
            "dense_4 (Dense)              (None, 128)               32896     \n",
            "_________________________________________________________________\n",
            "dropout_4 (Dropout)          (None, 128)               0         \n",
            "_________________________________________________________________\n",
            "batch_normalization_4 (Batch (None, 128)               512       \n",
            "_________________________________________________________________\n",
            "dense_5 (Dense)              (None, 7)                 903       \n",
            "_________________________________________________________________\n",
            "activation_1 (Activation)    (None, 7)                 0         \n",
            "=================================================================\n",
            "Total params: 174,215\n",
            "Trainable params: 172,679\n",
            "Non-trainable params: 1,536\n",
            "_________________________________________________________________\n"
          ],
          "name": "stdout"
        }
      ]
    },
    {
      "cell_type": "code",
      "metadata": {
        "colab": {
          "base_uri": "https://localhost:8080/"
        },
        "id": "G9kHCAuc1X0E",
        "outputId": "135a993e-99f9-4ede-b206-19f9ea93a90b"
      },
      "source": [
        "history = model.fit(xtrain_glove_scl, y=y_train_nn, batch_size=64, \n",
        "          epochs=10, verbose=1, \n",
        "          validation_data=(xtest_glove_scl, y_test_nn))"
      ],
      "execution_count": null,
      "outputs": [
        {
          "output_type": "stream",
          "text": [
            "Train on 13500 samples, validate on 1022 samples\n",
            "Epoch 1/10\n",
            "13500/13500 [==============================] - 6s 430us/step - loss: 1.6998 - accuracy: 0.4128 - val_loss: 1.2727 - val_accuracy: 0.5352\n",
            "Epoch 2/10\n",
            "13500/13500 [==============================] - 3s 236us/step - loss: 1.2914 - accuracy: 0.5370 - val_loss: 1.1790 - val_accuracy: 0.5509\n",
            "Epoch 3/10\n",
            "13500/13500 [==============================] - 3s 224us/step - loss: 1.1993 - accuracy: 0.5601 - val_loss: 1.1297 - val_accuracy: 0.5665\n",
            "Epoch 4/10\n",
            "13500/13500 [==============================] - 3s 217us/step - loss: 1.1501 - accuracy: 0.5819 - val_loss: 1.1042 - val_accuracy: 0.5822\n",
            "Epoch 5/10\n",
            "13500/13500 [==============================] - 3s 219us/step - loss: 1.1196 - accuracy: 0.5887 - val_loss: 1.0910 - val_accuracy: 0.5871\n",
            "Epoch 6/10\n",
            "13500/13500 [==============================] - 3s 243us/step - loss: 1.0931 - accuracy: 0.6003 - val_loss: 1.0737 - val_accuracy: 0.5930\n",
            "Epoch 7/10\n",
            "13500/13500 [==============================] - 3s 216us/step - loss: 1.0602 - accuracy: 0.6067 - val_loss: 1.0794 - val_accuracy: 0.5959\n",
            "Epoch 8/10\n",
            "13500/13500 [==============================] - 3s 216us/step - loss: 1.0388 - accuracy: 0.6158 - val_loss: 1.0701 - val_accuracy: 0.5881\n",
            "Epoch 9/10\n",
            "13500/13500 [==============================] - 3s 223us/step - loss: 1.0222 - accuracy: 0.6196 - val_loss: 1.0698 - val_accuracy: 0.5978\n",
            "Epoch 10/10\n",
            "13500/13500 [==============================] - 3s 233us/step - loss: 1.0020 - accuracy: 0.6305 - val_loss: 1.0651 - val_accuracy: 0.5939\n"
          ],
          "name": "stdout"
        }
      ]
    },
    {
      "cell_type": "markdown",
      "metadata": {
        "id": "ZT_5qWT88L6X"
      },
      "source": [
        "## Model 5: LSTM"
      ]
    },
    {
      "cell_type": "code",
      "metadata": {
        "id": "L8wcCRdc4Bdm"
      },
      "source": [
        "# using keras tokenizer here\n",
        "token = text.Tokenizer(num_words=None)\n",
        "max_len = 70\n",
        "a =list(X_train['CleanText']) + list(X_test['CleanText'])\n",
        "token.fit_on_texts(a)\n",
        "xtrain_seq = token.texts_to_sequences(X_train['CleanText'])\n",
        "xtest_seq = token.texts_to_sequences(X_test['CleanText'])\n",
        "\n",
        "# zero pad the sequences\n",
        "xtrain_pad = sequence.pad_sequences(xtrain_seq, maxlen=max_len)\n",
        "xtest_pad = sequence.pad_sequences(xtest_seq, maxlen=max_len)\n",
        "\n",
        "word_index = token.word_index"
      ],
      "execution_count": null,
      "outputs": []
    },
    {
      "cell_type": "code",
      "metadata": {
        "id": "2usmfYP58L6Y",
        "outputId": "59ff813b-1145-4f94-b9f5-a67d16c06853"
      },
      "source": [
        "path_to_glove_file = os.path.join(\n",
        "    os.path.expanduser(\"~\"), \"Desktop/studies/Kaggle competitions codes/datasets/Friends 2 dataset/glove.6B.300d.txt\"\n",
        ")\n",
        "\n",
        "embeddings_index = {}\n",
        "with open(path_to_glove_file, encoding=\"utf8\") as f:\n",
        "    for line in f:\n",
        "        word, coefs = line.split(maxsplit=1)\n",
        "        coefs = np.fromstring(coefs, \"f\", sep=\" \")\n",
        "        embeddings_index[word] = coefs\n",
        "\n",
        "print(\"Found %s word vectors.\" % len(embeddings_index))"
      ],
      "execution_count": null,
      "outputs": [
        {
          "output_type": "stream",
          "text": [
            "Found 400000 word vectors.\n"
          ],
          "name": "stdout"
        }
      ]
    },
    {
      "cell_type": "code",
      "metadata": {
        "colab": {
          "base_uri": "https://localhost:8080/",
          "height": 248
        },
        "id": "LJUdGsqNdS1_",
        "outputId": "3555c65f-ee35-4ecf-ef7d-8d6e89be8be1"
      },
      "source": [
        "# create an embedding matrix for the words we have in the dataset\n",
        "embedding_matrix = np.zeros((len(word_index) + 1, 300))\n",
        "for word, i in tqdm(word_index.items()):\n",
        "    embedding_vector = embeddings_index.get(word)\n",
        "    if embedding_vector is not None:\n",
        "        embedding_matrix[i] = embedding_vector"
      ],
      "execution_count": null,
      "outputs": [
        {
          "output_type": "stream",
          "text": [
            "100%|███████████████████████████████████████████████████████████████████████████| 6722/6722 [00:00<00:00, 79132.26it/s]\n"
          ],
          "name": "stderr"
        }
      ]
    },
    {
      "cell_type": "code",
      "metadata": {
        "id": "6Gp4hqZY8L6f",
        "outputId": "3094c299-717d-4ea5-923d-58d1383ac09f"
      },
      "source": [
        "# A simple LSTM with glove embeddings and two dense layers\n",
        "model = Sequential()\n",
        "model.add(Embedding(len(word_index) + 1,\n",
        "                     300,\n",
        "                     weights=[embedding_matrix],\n",
        "                     input_length=max_len,\n",
        "                     trainable=False))\n",
        "model.add(SpatialDropout1D(0.3))\n",
        "model.add(LSTM(300, dropout=0.3, recurrent_dropout=0.3))\n",
        "\n",
        "model.add(Dense(1024, activation='relu'))\n",
        "model.add(Dropout(0.8))\n",
        "\n",
        "model.add(Dense(1024, activation='relu'))\n",
        "model.add(Dropout(0.8))\n",
        "\n",
        "model.add(Dense(7))\n",
        "model.add(Activation('softmax'))\n",
        "model.compile(loss='categorical_crossentropy', optimizer='adam', metrics=['accuracy'])\n",
        "\n",
        "# Fit the model with early stopping callback\n",
        "earlystop = EarlyStopping(monitor='val_loss', min_delta=0, patience=3, verbose=0, mode='auto')\n",
        "\n",
        "history=model.fit(xtrain_pad, y=y_train_nn, batch_size=512, epochs=200, verbose=1, \n",
        "                  validation_data=(xtest_pad, y_test_nn), callbacks=[earlystop])"
      ],
      "execution_count": null,
      "outputs": [
        {
          "output_type": "stream",
          "text": [
            "WARNING:tensorflow:Large dropout rate: 0.8 (>0.5). In TensorFlow 2.x, dropout() uses dropout rate instead of keep_prob. Please ensure that this is intended.\n",
            "WARNING:tensorflow:Large dropout rate: 0.8 (>0.5). In TensorFlow 2.x, dropout() uses dropout rate instead of keep_prob. Please ensure that this is intended.\n",
            "Train on 13500 samples, validate on 1022 samples\n",
            "Epoch 1/200\n",
            "13500/13500 [==============================] - 190s 14ms/step - loss: 1.5538 - accuracy: 0.3827 - val_loss: 1.3866 - val_accuracy: 0.4501\n",
            "Epoch 2/200\n",
            "13500/13500 [==============================] - 197s 15ms/step - loss: 1.3758 - accuracy: 0.4764 - val_loss: 1.3191 - val_accuracy: 0.5215\n",
            "Epoch 3/200\n",
            "13500/13500 [==============================] - 201s 15ms/step - loss: 1.3210 - accuracy: 0.5026 - val_loss: 1.2247 - val_accuracy: 0.5352\n",
            "Epoch 4/200\n",
            "13500/13500 [==============================] - 198s 15ms/step - loss: 1.2829 - accuracy: 0.5203 - val_loss: 1.1927 - val_accuracy: 0.5665\n",
            "Epoch 5/200\n",
            "13500/13500 [==============================] - 194s 14ms/step - loss: 1.2494 - accuracy: 0.5367 - val_loss: 1.1678 - val_accuracy: 0.5753\n",
            "Epoch 6/200\n",
            "13500/13500 [==============================] - 183s 14ms/step - loss: 1.2298 - accuracy: 0.5490 - val_loss: 1.1313 - val_accuracy: 0.5812\n",
            "Epoch 7/200\n",
            "13500/13500 [==============================] - 197s 15ms/step - loss: 1.2130 - accuracy: 0.5564 - val_loss: 1.1284 - val_accuracy: 0.5930\n",
            "Epoch 8/200\n",
            "13500/13500 [==============================] - 202s 15ms/step - loss: 1.1937 - accuracy: 0.5628 - val_loss: 1.1076 - val_accuracy: 0.6135\n",
            "Epoch 9/200\n",
            "13500/13500 [==============================] - 180s 13ms/step - loss: 1.1834 - accuracy: 0.5624 - val_loss: 1.0978 - val_accuracy: 0.6125\n",
            "Epoch 10/200\n",
            "13500/13500 [==============================] - 179s 13ms/step - loss: 1.1611 - accuracy: 0.5767 - val_loss: 1.0873 - val_accuracy: 0.6115\n",
            "Epoch 11/200\n",
            "13500/13500 [==============================] - 179s 13ms/step - loss: 1.1533 - accuracy: 0.5766 - val_loss: 1.0785 - val_accuracy: 0.6125\n",
            "Epoch 12/200\n",
            "13500/13500 [==============================] - 179s 13ms/step - loss: 1.1392 - accuracy: 0.5788 - val_loss: 1.0736 - val_accuracy: 0.6096\n",
            "Epoch 13/200\n",
            "13500/13500 [==============================] - 178s 13ms/step - loss: 1.1248 - accuracy: 0.5829 - val_loss: 1.0640 - val_accuracy: 0.6145\n",
            "Epoch 14/200\n",
            "13500/13500 [==============================] - 179s 13ms/step - loss: 1.1076 - accuracy: 0.5877 - val_loss: 1.0696 - val_accuracy: 0.6135\n",
            "Epoch 15/200\n",
            "13500/13500 [==============================] - 182s 14ms/step - loss: 1.1056 - accuracy: 0.5923 - val_loss: 1.0623 - val_accuracy: 0.6243\n",
            "Epoch 16/200\n",
            "13500/13500 [==============================] - 178s 13ms/step - loss: 1.0863 - accuracy: 0.5950 - val_loss: 1.0606 - val_accuracy: 0.6135\n",
            "Epoch 17/200\n",
            "13500/13500 [==============================] - 179s 13ms/step - loss: 1.0758 - accuracy: 0.6000 - val_loss: 1.0491 - val_accuracy: 0.6204\n",
            "Epoch 18/200\n",
            "13500/13500 [==============================] - 177s 13ms/step - loss: 1.0591 - accuracy: 0.6046 - val_loss: 1.0447 - val_accuracy: 0.6125\n",
            "Epoch 19/200\n",
            "13500/13500 [==============================] - 178s 13ms/step - loss: 1.0537 - accuracy: 0.6066 - val_loss: 1.0414 - val_accuracy: 0.6282\n",
            "Epoch 20/200\n",
            "13500/13500 [==============================] - 178s 13ms/step - loss: 1.0396 - accuracy: 0.6169 - val_loss: 1.0334 - val_accuracy: 0.6243\n",
            "Epoch 21/200\n",
            "13500/13500 [==============================] - 178s 13ms/step - loss: 1.0238 - accuracy: 0.6176 - val_loss: 1.0384 - val_accuracy: 0.6184\n",
            "Epoch 22/200\n",
            "13500/13500 [==============================] - 3979s 295ms/step - loss: 1.0154 - accuracy: 0.6233 - val_loss: 1.0159 - val_accuracy: 0.6360\n",
            "Epoch 23/200\n",
            "13500/13500 [==============================] - 180s 13ms/step - loss: 0.9957 - accuracy: 0.6293 - val_loss: 1.0116 - val_accuracy: 0.6399\n",
            "Epoch 24/200\n",
            "13500/13500 [==============================] - 179s 13ms/step - loss: 0.9891 - accuracy: 0.6337 - val_loss: 1.0172 - val_accuracy: 0.6321\n",
            "Epoch 25/200\n",
            "13500/13500 [==============================] - 177s 13ms/step - loss: 0.9710 - accuracy: 0.6404 - val_loss: 1.0217 - val_accuracy: 0.6341\n",
            "Epoch 26/200\n",
            "13500/13500 [==============================] - 178s 13ms/step - loss: 0.9521 - accuracy: 0.6470 - val_loss: 1.0241 - val_accuracy: 0.6223\n"
          ],
          "name": "stdout"
        }
      ]
    },
    {
      "cell_type": "markdown",
      "metadata": {
        "id": "wEzc9lNL8L6g"
      },
      "source": [
        "## Model 6: Bi-LSTM"
      ]
    },
    {
      "cell_type": "code",
      "metadata": {
        "id": "L8_fOGCl8L6g",
        "outputId": "d0e6ca8d-503d-45ee-9bce-7563823c54cb"
      },
      "source": [
        "# A simple bidirectional LSTM with glove embeddings and two dense layers\n",
        "model = Sequential()\n",
        "model.add(Embedding(len(word_index) + 1,\n",
        "                     300,\n",
        "                     weights=[embedding_matrix],\n",
        "                     input_length=max_len,\n",
        "                     trainable=False))\n",
        "model.add(SpatialDropout1D(0.3))\n",
        "model.add(Bidirectional(LSTM(300, dropout=0.3, recurrent_dropout=0.3)))\n",
        "\n",
        "model.add(Dense(1024, activation='relu'))\n",
        "model.add(Dropout(0.8))\n",
        "\n",
        "model.add(Dense(1024, activation='relu'))\n",
        "model.add(Dropout(0.8))\n",
        "\n",
        "model.add(Dense(7))\n",
        "model.add(Activation('softmax'))\n",
        "model.compile(loss='categorical_crossentropy', optimizer='adam', metrics=['accuracy'])\n",
        "\n",
        "# Fit the model with early stopping callback\n",
        "earlystop = EarlyStopping(monitor='val_loss', min_delta=0, patience=3, verbose=0, mode='auto')\n",
        "\n",
        "history=model.fit(xtrain_pad, y=y_train_nn, batch_size=512, epochs=200, verbose=1, \n",
        "                  validation_data=(xtest_pad, y_test_nn), callbacks=[earlystop])"
      ],
      "execution_count": null,
      "outputs": [
        {
          "output_type": "stream",
          "text": [
            "WARNING:tensorflow:Large dropout rate: 0.8 (>0.5). In TensorFlow 2.x, dropout() uses dropout rate instead of keep_prob. Please ensure that this is intended.\n",
            "Train on 13500 samples, validate on 1022 samples\n",
            "Epoch 1/200\n",
            "13500/13500 [==============================] - 345s 26ms/step - loss: 1.5679 - accuracy: 0.3824 - val_loss: 1.3806 - val_accuracy: 0.4648\n",
            "Epoch 2/200\n",
            "13500/13500 [==============================] - 342s 25ms/step - loss: 1.3787 - accuracy: 0.4759 - val_loss: 1.2907 - val_accuracy: 0.4961\n",
            "Epoch 3/200\n",
            "13500/13500 [==============================] - 344s 26ms/step - loss: 1.3268 - accuracy: 0.4971 - val_loss: 1.2399 - val_accuracy: 0.5352\n",
            "Epoch 4/200\n",
            "13500/13500 [==============================] - 349s 26ms/step - loss: 1.2764 - accuracy: 0.5281 - val_loss: 1.1918 - val_accuracy: 0.5470\n",
            "Epoch 5/200\n",
            "13500/13500 [==============================] - 409s 30ms/step - loss: 1.2479 - accuracy: 0.5413 - val_loss: 1.1627 - val_accuracy: 0.5744\n",
            "Epoch 6/200\n",
            "13500/13500 [==============================] - 397s 29ms/step - loss: 1.2217 - accuracy: 0.5497 - val_loss: 1.1468 - val_accuracy: 0.5900\n",
            "Epoch 7/200\n",
            "13500/13500 [==============================] - 344s 26ms/step - loss: 1.2101 - accuracy: 0.5526 - val_loss: 1.1356 - val_accuracy: 0.5900\n",
            "Epoch 8/200\n",
            "13500/13500 [==============================] - 357s 26ms/step - loss: 1.1883 - accuracy: 0.5590 - val_loss: 1.1251 - val_accuracy: 0.5890\n",
            "Epoch 9/200\n",
            "13500/13500 [==============================] - 345s 26ms/step - loss: 1.1774 - accuracy: 0.5639 - val_loss: 1.1005 - val_accuracy: 0.6106\n",
            "Epoch 10/200\n",
            "13500/13500 [==============================] - 354s 26ms/step - loss: 1.1636 - accuracy: 0.5730 - val_loss: 1.0978 - val_accuracy: 0.6164\n",
            "Epoch 11/200\n",
            "13500/13500 [==============================] - 367s 27ms/step - loss: 1.1427 - accuracy: 0.5801 - val_loss: 1.0790 - val_accuracy: 0.6155\n",
            "Epoch 12/200\n",
            "13500/13500 [==============================] - 356s 26ms/step - loss: 1.1224 - accuracy: 0.5865 - val_loss: 1.0743 - val_accuracy: 0.6174\n",
            "Epoch 13/200\n",
            "13500/13500 [==============================] - 346s 26ms/step - loss: 1.1240 - accuracy: 0.5855 - val_loss: 1.0712 - val_accuracy: 0.6204\n",
            "Epoch 14/200\n",
            "13500/13500 [==============================] - 347s 26ms/step - loss: 1.0998 - accuracy: 0.5935 - val_loss: 1.0606 - val_accuracy: 0.6301\n",
            "Epoch 15/200\n",
            "13500/13500 [==============================] - 345s 26ms/step - loss: 1.1027 - accuracy: 0.5952 - val_loss: 1.0662 - val_accuracy: 0.6115\n",
            "Epoch 16/200\n",
            "13500/13500 [==============================] - 346s 26ms/step - loss: 1.0809 - accuracy: 0.6006 - val_loss: 1.0407 - val_accuracy: 0.6311\n",
            "Epoch 17/200\n",
            "13500/13500 [==============================] - 344s 26ms/step - loss: 1.0642 - accuracy: 0.6059 - val_loss: 1.0387 - val_accuracy: 0.6252\n",
            "Epoch 18/200\n",
            "13500/13500 [==============================] - 348s 26ms/step - loss: 1.0507 - accuracy: 0.6098 - val_loss: 1.0375 - val_accuracy: 0.6213\n",
            "Epoch 19/200\n",
            "13500/13500 [==============================] - 347s 26ms/step - loss: 1.0402 - accuracy: 0.6124 - val_loss: 1.0381 - val_accuracy: 0.6174\n",
            "Epoch 20/200\n",
            "13500/13500 [==============================] - 348s 26ms/step - loss: 1.0304 - accuracy: 0.6218 - val_loss: 1.0274 - val_accuracy: 0.6292\n",
            "Epoch 21/200\n",
            "13500/13500 [==============================] - 352s 26ms/step - loss: 1.0195 - accuracy: 0.6226 - val_loss: 1.0243 - val_accuracy: 0.6292\n",
            "Epoch 22/200\n",
            "13500/13500 [==============================] - 355s 26ms/step - loss: 1.0057 - accuracy: 0.6276 - val_loss: 1.0332 - val_accuracy: 0.6311\n",
            "Epoch 23/200\n",
            "13500/13500 [==============================] - 345s 26ms/step - loss: 0.9855 - accuracy: 0.6328 - val_loss: 1.0174 - val_accuracy: 0.6272\n",
            "Epoch 24/200\n",
            "13500/13500 [==============================] - 344s 25ms/step - loss: 0.9750 - accuracy: 0.6381 - val_loss: 1.0196 - val_accuracy: 0.6370\n",
            "Epoch 25/200\n",
            "13500/13500 [==============================] - 1661s 123ms/step - loss: 0.9681 - accuracy: 0.6379 - val_loss: 1.0246 - val_accuracy: 0.6301\n",
            "Epoch 26/200\n",
            "13500/13500 [==============================] - 346s 26ms/step - loss: 0.9519 - accuracy: 0.6432 - val_loss: 1.0306 - val_accuracy: 0.6194\n"
          ],
          "name": "stdout"
        }
      ]
    },
    {
      "cell_type": "markdown",
      "metadata": {
        "id": "PnRbeOWQ8L6h"
      },
      "source": [
        "## Model 7: CNN Model"
      ]
    },
    {
      "cell_type": "code",
      "metadata": {
        "id": "B4hyT0DY8L6h"
      },
      "source": [
        "model = Sequential()\n",
        "#model.add(Embedding(2737, 128, input_length=MAX_SEQUENCE_LENGTH))\n",
        "model.add(Embedding(len(word_index) + 1,\n",
        "                     300,\n",
        "                     weights=[embedding_matrix],\n",
        "                     input_length=max_len,\n",
        "                     trainable=False))\n",
        "model.add(Conv1D(256, 3, border_mode='same'))\n",
        "model.add(Dropout(0.2))\n",
        "model.add(Activation('relu'))\n",
        "model.add(Conv1D(128, 3, border_mode='same'))\n",
        "model.add(Dropout(0.2))\n",
        "model.add(Activation('relu'))\n",
        "model.add(Conv1D(64, 3, border_mode='same'))\n",
        "model.add(Dropout(0.2))\n",
        "model.add(Activation('relu'))\n",
        "model.add(Conv1D(32, 3, border_mode='same'))\n",
        "model.add(Dropout(0.2))\n",
        "model.add(Activation('relu'))\n",
        "model.add(Flatten())\n",
        "model.add(Dropout(0.2))\n",
        "model.add(Dense(256))\n",
        "model.add(Activation('relu')) \n",
        "model.add(Dropout(0.2))\n",
        "model.add(Dense(7))\n",
        "model.add(Activation('softmax'))\n",
        "\n",
        "#sgd = optimizers.SGD(lr=0.001, decay=1e-6, momentum=0.9, nesterov=True)\n",
        "model.compile(loss='categorical_crossentropy',optimizer='adam' ,metrics=['accuracy'])\n",
        "\n",
        "\n",
        "# Fit the model with early stopping callback\n",
        "earlystop = EarlyStopping(monitor='val_loss', min_delta=0, patience=3, verbose=0, mode='auto')\n",
        "\n",
        "history=model.fit(xtrain_pad, y=y_train_nn, batch_size=512, epochs=200, verbose=1, \n",
        "                  validation_data=(xtest_pad, y_test_nn), callbacks=[earlystop])"
      ],
      "execution_count": null,
      "outputs": []
    },
    {
      "cell_type": "code",
      "metadata": {
        "id": "UiaA23cn8L6i"
      },
      "source": [
        ""
      ],
      "execution_count": null,
      "outputs": []
    },
    {
      "cell_type": "code",
      "metadata": {
        "id": "n4AjpEzN8L6i"
      },
      "source": [
        ""
      ],
      "execution_count": null,
      "outputs": []
    }
  ]
}